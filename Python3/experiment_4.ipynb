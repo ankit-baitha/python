{
 "cells": [
  {
   "cell_type": "code",
   "execution_count": 4,
   "id": "e004f996",
   "metadata": {},
   "outputs": [
    {
     "name": "stdout",
     "output_type": "stream",
     "text": [
      "Original array: [11 22 33 44 55]\n",
      "sum:  165\n",
      "mean:  33.0\n",
      "max:  55\n",
      "element wise addition :  [14 27 39 52 65]\n",
      "element wise multiplication :  [ 33 110 198 352 550]\n"
     ]
    }
   ],
   "source": [
    "import numpy as n\n",
    "arr1 =np.array([1, 2, 3, 4, 55])\n",
    "print(\"Original array:\" ,arr1)\n",
    "sum_result =np.sum(arr1)\n",
    "mean_result=np.mean(arr1)\n",
    "max_result =np.max(arr1)\n",
    "print(\"sum: \",sum_result)\n",
    "print(\"mean: \",mean_result)\n",
    "print(\"max: \", max_result)\n",
    "arr2=np.array([3, 5, 6, 8, 10])\n",
    "add_result=arr1+arr2\n",
    "multiply_result =arr1 * arr2\n",
    "print(\"element wise addition : \" ,add_result)\n",
    "print(\"element wise multiplication : \",multiply_result)\n"
   ]
  },
  {
   "cell_type": "code",
   "execution_count": null,
   "id": "d428000f",
   "metadata": {},
   "outputs": [],
   "source": []
  }
 ],
 "metadata": {
  "kernelspec": {
   "display_name": "Python 3 (ipykernel)",
   "language": "python",
   "name": "python3"
  },
  "language_info": {
   "codemirror_mode": {
    "name": "ipython",
    "version": 3
   },
   "file_extension": ".py",
   "mimetype": "text/x-python",
   "name": "python",
   "nbconvert_exporter": "python",
   "pygments_lexer": "ipython3",
   "version": "3.11.5"
  }
 },
 "nbformat": 4,
 "nbformat_minor": 5
}
