{
 "cells": [
  {
   "cell_type": "code",
   "execution_count": 2,
   "id": "1d6efa16",
   "metadata": {},
   "outputs": [
    {
     "name": "stdout",
     "output_type": "stream",
     "text": [
      "Original array [1 2 3 4 5]\n",
      "sum:  15\n",
      "mean:  3.0\n",
      "max:  5\n",
      "element-wise addition  [ 3  6  9 12 15]\n",
      "element-wise multiplication  [ 2  8 18 32 50]\n"
     ]
    }
   ],
   "source": [
    "import numpy as np\n",
    "arr1=np.array([1,2,3,4,5])\n",
    "print(\"Original array\",arr1)\n",
    "sum_result=np.sum(arr1)\n",
    "mean_result=np.mean(arr1)\n",
    "max_result=np.max(arr1)\n",
    "print(\"sum: \",sum_result)\n",
    "print(\"mean: \",mean_result)\n",
    "print(\"max: \",max_result)\n",
    "arr2=np.array([2,4,6,8,10])\n",
    "add_result=arr1+arr2\n",
    "multiply_result=arr1*arr2\n",
    "print(\"element-wise addition \",add_result)\n",
    "print(\"element-wise multiplication \",multiply_result)"
   ]
  },
  {
   "cell_type": "code",
   "execution_count": null,
   "id": "48da8e57",
   "metadata": {},
   "outputs": [],
   "source": []
  }
 ],
 "metadata": {
  "kernelspec": {
   "display_name": "Python 3 (ipykernel)",
   "language": "python",
   "name": "python3"
  },
  "language_info": {
   "codemirror_mode": {
    "name": "ipython",
    "version": 3
   },
   "file_extension": ".py",
   "mimetype": "text/x-python",
   "name": "python",
   "nbconvert_exporter": "python",
   "pygments_lexer": "ipython3",
   "version": "3.11.5"
  }
 },
 "nbformat": 4,
 "nbformat_minor": 5
}
