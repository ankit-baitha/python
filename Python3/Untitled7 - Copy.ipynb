{
 "cells": [
  {
   "cell_type": "code",
   "execution_count": 1,
   "id": "2ba7054d",
   "metadata": {},
   "outputs": [
    {
     "name": "stdout",
     "output_type": "stream",
     "text": [
      "Original array: [1 2 3 4 5]\n",
      "sum:  15\n",
      "mean:  3.0\n",
      "max:  5\n"
     ]
    },
    {
     "ename": "TypeError",
     "evalue": "'builtin_function_or_method' object is not subscriptable",
     "output_type": "error",
     "traceback": [
      "\u001b[1;31m---------------------------------------------------------------------------\u001b[0m",
      "\u001b[1;31mTypeError\u001b[0m                                 Traceback (most recent call last)",
      "Cell \u001b[1;32mIn[1], line 10\u001b[0m\n\u001b[0;32m      8\u001b[0m \u001b[38;5;28mprint\u001b[39m(\u001b[38;5;124m\"\u001b[39m\u001b[38;5;124mmean: \u001b[39m\u001b[38;5;124m\"\u001b[39m,mean_result)\n\u001b[0;32m      9\u001b[0m \u001b[38;5;28mprint\u001b[39m(\u001b[38;5;124m\"\u001b[39m\u001b[38;5;124mmax: \u001b[39m\u001b[38;5;124m\"\u001b[39m, max_result)\n\u001b[1;32m---> 10\u001b[0m arr2\u001b[38;5;241m=\u001b[39mnp\u001b[38;5;241m.\u001b[39marray[\u001b[38;5;241m2\u001b[39m,\u001b[38;5;241m4\u001b[39m,\u001b[38;5;241m6\u001b[39m,\u001b[38;5;241m8\u001b[39m,\u001b[38;5;241m10\u001b[39m]\n\u001b[0;32m     11\u001b[0m add_result\u001b[38;5;241m=\u001b[39marr1\u001b[38;5;241m+\u001b[39marr2\n\u001b[0;32m     12\u001b[0m multiply_result \u001b[38;5;241m=\u001b[39marr1 \u001b[38;5;241m*\u001b[39m arr2\n",
      "\u001b[1;31mTypeError\u001b[0m: 'builtin_function_or_method' object is not subscriptable"
     ]
    }
   ],
   "source": [
    "import numpy as np\n",
    "arr1 =np.array([1, 2, 3, 4, 5])\n",
    "print(\"Original array:\" ,arr1)\n",
    "sum_result =np.sum(arr1)\n",
    "mean_result=np.mean(arr1)\n",
    "max_result =np.max(arr1)\n",
    "print(\"sum: \",sum_result)\n",
    "print(\"mean: \",mean_result)\n",
    "print(\"max: \", max_result)\n",
    "arr2=np.array[2,4,6,8,10]\n",
    "add_result=arr1+arr2\n",
    "multiply_result =arr1 * arr2\n",
    "print(\"element wise addition : \" ,add_result)\n",
    "print(\"element wise multiplication : \",multiply_result)\n"
   ]
  },
  {
   "cell_type": "code",
   "execution_count": null,
   "id": "331cc182",
   "metadata": {},
   "outputs": [],
   "source": []
  }
 ],
 "metadata": {
  "kernelspec": {
   "display_name": "Python 3 (ipykernel)",
   "language": "python",
   "name": "python3"
  },
  "language_info": {
   "codemirror_mode": {
    "name": "ipython",
    "version": 3
   },
   "file_extension": ".py",
   "mimetype": "text/x-python",
   "name": "python",
   "nbconvert_exporter": "python",
   "pygments_lexer": "ipython3",
   "version": "3.11.5"
  }
 },
 "nbformat": 4,
 "nbformat_minor": 5
}
