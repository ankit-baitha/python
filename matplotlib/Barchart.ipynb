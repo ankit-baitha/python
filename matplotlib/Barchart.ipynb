{
 "cells": [
  {
   "cell_type": "markdown",
   "id": "836b6ba0",
   "metadata": {},
   "source": [
    "\n",
    "# Barchart In matplotlib"
   ]
  },
  {
   "cell_type": "markdown",
   "id": "ac4f98fd",
   "metadata": {},
   "source": [
    "This will save the current matplotlib figure as an image file named \"piechart.png\" in the current directory. Make sure you have already imported matplotlib.pyplot as plt before attempting to save the figure.\n",
    "\n",
    "User\n"
   ]
  },
  {
   "cell_type": "code",
   "execution_count": 6,
   "id": "c96c9f15",
   "metadata": {},
   "outputs": [
    {
     "data": {
      "text/plain": [
       "<BarContainer object of 5 artists>"
      ]
     },
     "execution_count": 6,
     "metadata": {},
     "output_type": "execute_result"
    },
    {
     "data": {
      "image/png": "[encoded data removed]",
      "text/plain": [
       "<Figure size 640x480 with 1 Axes>"
      ]
     },
     "metadata": {},
     "output_type": "display_data"
    }
   ],
   "source": [
    "import matplotlib.pyplot as plt\n",
    "a=[1,12,3,4,4]\n",
    "b=[1,2,3,45,3]\n",
    "plt.bar(a,b)"
   ]
  },
  {
   "cell_type": "code",
   "execution_count": null,
   "id": "53cf4bc6",
   "metadata": {},
   "outputs": [],
   "source": []
  }
 ],
 "metadata": {
  "kernelspec": {
   "display_name": "Python 3 (ipykernel)",
   "language": "python",
   "name": "python3"
  },
  "language_info": {
   "codemirror_mode": {
    "name": "ipython",
    "version": 3
   },
   "file_extension": ".py",
   "mimetype": "text/x-python",
   "name": "python",
   "nbconvert_exporter": "python",
   "pygments_lexer": "ipython3",
   "version": "3.11.5"
  }
 },
 "nbformat": 4,
 "nbformat_minor": 5
}
