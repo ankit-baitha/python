{
 "cells": [
  {
   "cell_type": "code",
   "execution_count": 3,
   "id": "87df516e",
   "metadata": {},
   "outputs": [
    {
     "name": "stdout",
     "output_type": "stream",
     "text": [
      "other\n"
     ]
    }
   ],
   "source": [
    "import random\n",
    "l=[\"heads\",\"tails\",\"other\"]\n",
    "x =random.choice(l)\n",
    "print(x)"
   ]
  },
  {
   "cell_type": "code",
   "execution_count": 10,
   "id": "9f4cbfba",
   "metadata": {},
   "outputs": [
    {
     "name": "stdout",
     "output_type": "stream",
     "text": [
      "the maximum value is  64\n",
      "the minimum value is  13\n",
      "16\n",
      "7.0\n",
      "12\n",
      "nearset of number 3\n",
      "nearset of number 3\n",
      "closet of number 2\n",
      "closet of number 2\n"
     ]
    }
   ],
   "source": [
    "import math\n",
    "x=max(13,24,64)\n",
    "print(\"the maximum value is \", x)\n",
    "\n",
    "y=min(13,24,64)\n",
    "print(\"the minimum value is \",y)\n",
    "\n",
    "a=pow(2,4)\n",
    "print(a)\n",
    "\n",
    "b=math.sqrt(49)\n",
    "print(b)\n",
    "\n",
    "c=abs(-12)\n",
    "print(c)\n",
    "\n",
    "d=math.ceil(2.4)\n",
    "e=math.ceil(2.1)\n",
    "print(\"nearset of number\", d)\n",
    "print(\"nearset of number\", e)\n",
    "\n",
    "f=math.floor(2.4)\n",
    "g=math.floor(2.1)\n",
    "print(\"closet of number\", f)\n",
    "print(\"closet of number\", g)\n"
   ]
  },
  {
   "cell_type": "code",
   "execution_count": null,
   "id": "26bf4f13",
   "metadata": {},
   "outputs": [],
   "source": []
  }
 ],
 "metadata": {
  "kernelspec": {
   "display_name": "Python 3 (ipykernel)",
   "language": "python",
   "name": "python3"
  },
  "language_info": {
   "codemirror_mode": {
    "name": "ipython",
    "version": 3
   },
   "file_extension": ".py",
   "mimetype": "text/x-python",
   "name": "python",
   "nbconvert_exporter": "python",
   "pygments_lexer": "ipython3",
   "version": "3.11.5"
  }
 },
 "nbformat": 4,
 "nbformat_minor": 5
}
