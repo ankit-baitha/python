{
 "cells": [
  {
   "cell_type": "code",
   "execution_count": null,
   "id": "c1d157c5",
   "metadata": {},
   "outputs": [],
   "source": [
    "num=int(input(\"Enter a number : \\n\"))\n",
    "if(num>0  ):\n",
    "    print(\"positive number\")\n",
    "elif(num<0):\n",
    "    print(\"nagetive numner\")\n",
    "else:\n",
    "    print(\"zero number\")"
   ]
  },
  {
   "cell_type": "code",
   "execution_count": null,
   "id": "f34dad53",
   "metadata": {},
   "outputs": [],
   "source": [
    "a=float(input(\"enter the number :\"))\n",
    "b=round(a)\n",
    "print(\"nearset number\",b)\n",
    "if(b%2==0):\n",
    "    print(\"even number\")\n",
    "else:\n",
    "    print(\"odd number\")\n"
   ]
  },
  {
   "cell_type": "code",
   "execution_count": null,
   "id": "fe4b4262",
   "metadata": {},
   "outputs": [],
   "source": []
  },
  {
   "cell_type": "code",
   "execution_count": null,
   "id": "3460e554",
   "metadata": {},
   "outputs": [],
   "source": []
  }
 ],
 "metadata": {
  "kernelspec": {
   "display_name": "Python 3 (ipykernel)",
   "language": "python",
   "name": "python3"
  },
  "language_info": {
   "codemirror_mode": {
    "name": "ipython",
    "version": 3
   },
   "file_extension": ".py",
   "mimetype": "text/x-python",
   "name": "python",
   "nbconvert_exporter": "python",
   "pygments_lexer": "ipython3",
   "version": "3.11.5"
  }
 },
 "nbformat": 4,
 "nbformat_minor": 5
}
