{
 "cells": [
  {
   "cell_type": "markdown",
   "metadata": {},
   "source": [
    "series\n"
   ]
  },
  {
   "cell_type": "code",
   "execution_count": 13,
   "metadata": {},
   "outputs": [
    {
     "name": "stdout",
     "output_type": "stream",
     "text": [
      "Series([], dtype: object)\n",
      "<class 'pandas.core.series.Series'>\n"
     ]
    }
   ],
   "source": [
    "import pandas as pd\n",
    "a=pd.Series()\n",
    "print(a)\n",
    "print(type(a))"
   ]
  },
  {
   "cell_type": "code",
   "execution_count": 14,
   "metadata": {},
   "outputs": [
    {
     "name": "stdout",
     "output_type": "stream",
     "text": [
      "0    1\n",
      "1    2\n",
      "2    3\n",
      "3    4\n",
      "4    5\n",
      "dtype: int64\n"
     ]
    }
   ],
   "source": [
    "x=[1,2,3,4,5]\n",
    "var=pd.Series(x)\n",
    "print(var)"
   ]
  },
  {
   "cell_type": "code",
   "execution_count": 15,
   "metadata": {},
   "outputs": [
    {
     "name": "stdout",
     "output_type": "stream",
     "text": [
      "4\n",
      "3\n"
     ]
    }
   ],
   "source": [
    "print(var[3])\n",
    "print(var[2])\n"
   ]
  },
  {
   "cell_type": "code",
   "execution_count": 16,
   "metadata": {},
   "outputs": [
    {
     "name": "stdout",
     "output_type": "stream",
     "text": [
      "a    1.0\n",
      "b    2.0\n",
      "c    3.0\n",
      "d    4.0\n",
      "e    5.0\n",
      "Name: python, dtype: float64\n"
     ]
    }
   ],
   "source": [
    "var=pd.Series(x, index=['a' ,'b','c','d','e'], dtype=\"float\", name=\"python\")\n",
    "print(var)"
   ]
  },
  {
   "cell_type": "code",
   "execution_count": 17,
   "metadata": {},
   "outputs": [
    {
     "name": "stdout",
     "output_type": "stream",
     "text": [
      "name     [python, c++, java]\n",
      "pop     [12, 13, 14, 15, 16]\n",
      "rank         [1, 2, 3, 4, 5]\n",
      "dtype: object <class 'pandas.core.series.Series'>\n"
     ]
    }
   ],
   "source": [
    "dic={\n",
    "    \"name\":[\"python\", \"c++\",\"java\"], \n",
    "    \"pop\":[12,13,14,15,16],\n",
    "    \"rank\":[1,2,3,4,5]\n",
    "    \n",
    "        \n",
    "}\n",
    "var1=pd.Series(dic)\n",
    "print(var1,type(var1))"
   ]
  },
  {
   "cell_type": "code",
   "execution_count": 18,
   "metadata": {},
   "outputs": [
    {
     "name": "stdout",
     "output_type": "stream",
     "text": [
      "1    12\n",
      "2    12\n",
      "3    12\n",
      "4    12\n",
      "5    12\n",
      "6    12\n",
      "7    12\n",
      "dtype: int64\n",
      "1    24.0\n",
      "2    24.0\n",
      "3    24.0\n",
      "4    24.0\n",
      "5    24.0\n",
      "6     NaN\n",
      "7     NaN\n",
      "dtype: float64\n",
      "\n"
     ]
    }
   ],
   "source": [
    "s=pd.Series(12,index=[1,2,3,4,5,6,7])\n",
    "print(s)\n",
    "s1=pd.Series(12,index=[1,2,3,4,5])\n",
    "print(s1+s) # pandas work on missing value\n",
    "print()\n"
   ]
  },
  {
   "cell_type": "markdown",
   "metadata": {},
   "source": [
    "DataFrame\n"
   ]
  },
  {
   "cell_type": "code",
   "execution_count": 19,
   "metadata": {},
   "outputs": [
    {
     "name": "stdout",
     "output_type": "stream",
     "text": [
      "<class 'list'>    0\n",
      "0  1\n",
      "1  2\n",
      "2  3\n",
      "3  4\n",
      "4  5\n",
      "5  6\n"
     ]
    }
   ],
   "source": [
    "l=[1,2,3,4,5,6]\n",
    "var2=pd.DataFrame(l)\n",
    "print(type(l),var2)\n",
    "\n"
   ]
  },
  {
   "cell_type": "code",
   "execution_count": 20,
   "metadata": {},
   "outputs": [
    {
     "name": "stdout",
     "output_type": "stream",
     "text": [
      "   a  s  1\n",
      "0  1  1  1\n",
      "1  2  2  2\n",
      "2  3  3  3\n",
      "3  4  4  4\n",
      "4  5  5  5\n",
      "5  6  6  6\n"
     ]
    }
   ],
   "source": [
    "d={'a':[1,2,3,4,5,6],'s':[1,2,3,4,5,6],1:[1,2,3,4,5,6]\n",
    "   \n",
    "}\n",
    "var3=pd.DataFrame(d)\n",
    "print(var3)\n"
   ]
  },
  {
   "cell_type": "code",
   "execution_count": 21,
   "metadata": {},
   "outputs": [
    {
     "name": "stdout",
     "output_type": "stream",
     "text": [
      "   a  1\n",
      "0  1  1\n",
      "1  2  2\n",
      "2  3  3\n",
      "3  4  4\n",
      "4  5  5\n",
      "5  6  6\n",
      "  weight\n",
      "a    NaN\n",
      "b    NaN\n",
      "c    NaN\n",
      "d    NaN\n",
      "e    NaN\n"
     ]
    }
   ],
   "source": [
    "import pandas as pd\n",
    "d={'a':[1,2,3,4,5,6],'s':[1,2,3,4,5,6],1:[1,2,3,4,5,6]}\n",
    "   \n",
    "var4=pd.DataFrame(d,columns=[\"a\",1])\n",
    "\n",
    "print(var4)\n",
    "df ={'Weight': [45, 88, 56, 15, 71],'Name': ['Sam', 'Andrea', 'Alex', 'Robin', 'Kia'],'Age': [14, 25, 55, 8, 21]}\n",
    "var5=pd.DataFrame(df,columns=[\"weight\"],index=['a','b','c','d','e'])\n",
    "\n",
    "print(var5)\n",
    "\n",
    "\n"
   ]
  },
  {
   "cell_type": "code",
   "execution_count": 22,
   "metadata": {},
   "outputs": [
    {
     "name": "stdout",
     "output_type": "stream",
     "text": [
      "    0   1   2   3   4\n",
      "a   1   2   3   4   5\n",
      "b  11  12  13  14  15\n"
     ]
    }
   ],
   "source": [
    "list_1=[[1,2,3,4,5],[11,12,13,14,15]]\n",
    "var6=pd.DataFrame(list_1,index=[\"a\",'b'])\n",
    "print(var6)"
   ]
  },
  {
   "cell_type": "markdown",
   "metadata": {},
   "source": [
    "Arithmetic operations\n"
   ]
  },
  {
   "cell_type": "code",
   "execution_count": 23,
   "metadata": {},
   "outputs": [
    {
     "name": "stdout",
     "output_type": "stream",
     "text": [
      "   a  b   c\n",
      "0  1  2   3\n",
      "1  2  3   5\n",
      "2  3  4   7\n",
      "3  4  5   9\n",
      "4  5  6  11\n"
     ]
    }
   ],
   "source": [
    "import pandas as pd\n",
    "var7= pd.DataFrame({\"a\":[1,2,3,4,5],\"b\":[2,3,4,5,6]})\n",
    "var7[\"c\"]=var7[\"a\"]+var7[\"b\"]\n",
    "print(var7)"
   ]
  },
  {
   "cell_type": "code",
   "execution_count": 24,
   "metadata": {},
   "outputs": [
    {
     "name": "stdout",
     "output_type": "stream",
     "text": [
      "   a  b  c\n",
      "0  1  2 -1\n",
      "1  2  3 -1\n",
      "2  3  4 -1\n",
      "3  4  5 -1\n",
      "4  5  6 -1\n"
     ]
    }
   ],
   "source": [
    "var7[\"c\"]=var7[\"a\"]- var7[\"b\"]\n",
    "print(var7)"
   ]
  },
  {
   "cell_type": "code",
   "execution_count": 25,
   "metadata": {},
   "outputs": [
    {
     "name": "stdout",
     "output_type": "stream",
     "text": [
      "   a  b   c\n",
      "0  1  2   2\n",
      "1  2  3   6\n",
      "2  3  4  12\n",
      "3  4  5  20\n",
      "4  5  6  30\n"
     ]
    }
   ],
   "source": [
    "var7[\"c\"]=var7[\"a\"]* var7[\"b\"]\n",
    "print(var7)"
   ]
  },
  {
   "cell_type": "code",
   "execution_count": 26,
   "metadata": {},
   "outputs": [
    {
     "name": "stdout",
     "output_type": "stream",
     "text": [
      "   a  b   c  python\n",
      "0  1  2   2    True\n",
      "1  2  3   6   False\n",
      "2  3  4  12   False\n",
      "3  4  5  20   False\n",
      "4  5  6  30   False\n"
     ]
    }
   ],
   "source": [
    "var7[\"python\"]=var7[\"c\"]<=5\n",
    "print(var7)"
   ]
  },
  {
   "cell_type": "markdown",
   "metadata": {},
   "source": [
    "Delete and insert functions in python pandas"
   ]
  },
  {
   "cell_type": "code",
   "execution_count": 27,
   "metadata": {},
   "outputs": [
    {
     "name": "stdout",
     "output_type": "stream",
     "text": [
      "   a  python  b\n",
      "0  1       1  2\n",
      "1  2       2  3\n",
      "2  3       3  4\n",
      "3  4       4  5\n",
      "4  5       5  6\n"
     ]
    }
   ],
   "source": [
    "# insert\n",
    "import pandas as pd\n",
    "var8=pd.DataFrame({\"a\":[1,2,3,4,5],\"b\":[2,3,4,5,6]})\n",
    "var8.insert(1,\"python\",var8[\"a\"])\n",
    "print(var8)\n"
   ]
  },
  {
   "cell_type": "code",
   "execution_count": 28,
   "metadata": {},
   "outputs": [
    {
     "name": "stdout",
     "output_type": "stream",
     "text": [
      "   a  python_1  python  b\n",
      "0  1        11       1  2\n",
      "1  2        12       2  3\n",
      "2  3        13       3  4\n",
      "3  4        14       4  5\n",
      "4  5        15       5  6\n"
     ]
    }
   ],
   "source": [
    "import pandas as pd\n",
    "var8=pd.DataFrame({\"a\":[1,2,3,4,5],\"b\":[2,3,4,5,6]})\n",
    "var8.insert(1,\"python\",var8[\"a\"])\n",
    "\n",
    "\n",
    "var8.insert(1,\"python_1\",[11,12,13,14,15])\n",
    "print(var8)"
   ]
  },
  {
   "cell_type": "code",
   "execution_count": 29,
   "metadata": {},
   "outputs": [
    {
     "name": "stdout",
     "output_type": "stream",
     "text": [
      "   a  python_1  python  b  python_123\n",
      "0  1        11       1  2         1.0\n",
      "1  2        12       2  3         2.0\n",
      "2  3        13       3  4         3.0\n",
      "3  4        14       4  5         NaN\n",
      "4  5        15       5  6         NaN\n"
     ]
    }
   ],
   "source": [
    "var8[\"python_123\"]=var8[\"a\"][:3]\n",
    "print(var8)"
   ]
  },
  {
   "cell_type": "markdown",
   "metadata": {},
   "source": [
    "Delete\n"
   ]
  },
  {
   "cell_type": "code",
   "execution_count": 30,
   "metadata": {},
   "outputs": [
    {
     "name": "stdout",
     "output_type": "stream",
     "text": [
      "   a  b   c\n",
      "0  1  2  11\n",
      "1  2  3  12\n",
      "2  3  4  13\n",
      "3  4  5  14\n",
      "4  5  6  15\n",
      "\n",
      "0    2\n",
      "1    3\n",
      "2    4\n",
      "3    5\n",
      "4    6\n",
      "Name: b, dtype: int64\n"
     ]
    }
   ],
   "source": [
    "var9=pd.DataFrame({\"a\":[1,2,3,4,5],\"b\":[2,3,4,5,6],\"c\":[11,12,13,14,15]}) \n",
    "print(var9)\n",
    "print()\n",
    "delete=var9.pop(\"b\")\n",
    "print(delete)"
   ]
  },
  {
   "cell_type": "code",
   "execution_count": 31,
   "metadata": {},
   "outputs": [
    {
     "name": "stdout",
     "output_type": "stream",
     "text": [
      "   a   c\n",
      "0  1  11\n",
      "1  2  12\n",
      "2  3  13\n",
      "3  4  14\n",
      "4  5  15\n"
     ]
    }
   ],
   "source": [
    "print(var9)"
   ]
  },
  {
   "cell_type": "code",
   "execution_count": 32,
   "metadata": {},
   "outputs": [
    {
     "name": "stdout",
     "output_type": "stream",
     "text": [
      "    c\n",
      "0  11\n",
      "1  12\n",
      "2  13\n",
      "3  14\n",
      "4  15\n"
     ]
    }
   ],
   "source": [
    "del var9[\"a\"]\n",
    "print(var9) "
   ]
  },
  {
   "cell_type": "markdown",
   "metadata": {},
   "source": [
    "Write csv using pandas (create a csv file)"
   ]
  },
  {
   "cell_type": "markdown",
   "metadata": {},
   "source": [
    "csv format is a plain text format in which values are separate by commas (comma separated values)\n",
    "\n",
    "XLS file format is an excel sheets binary file format which holds information about all the worksheets in a file, including both and formatting."
   ]
  },
  {
   "cell_type": "markdown",
   "metadata": {},
   "source": [
    "Write csv file"
   ]
  },
  {
   "cell_type": "code",
   "execution_count": 35,
   "metadata": {},
   "outputs": [
    {
     "name": "stdout",
     "output_type": "stream",
     "text": [
      "   a  s  d\n",
      "0  1  1  1\n",
      "1  2  2  2\n",
      "2  3  3  3\n",
      "3  4  4  4\n",
      "4  5  5  5\n",
      "5  6  6  6\n"
     ]
    }
   ],
   "source": [
    "import pandas as pd\n",
    "dis={\"a\":[1,2,3,4,5,6],\"s\":[1,2,3,4,5,6],\"d\":[1,2,3,4,5,6]}\n",
    "d=pd.DataFrame(dis)\n",
    "d.to_csv(\"Test_new.csv_1\",index=False,header=[\"python\",\"c++\",\"java\"])\n",
    "print(d)"
   ]
  },
  {
   "cell_type": "markdown",
   "metadata": {},
   "source": [
    "Read csv files in python pandas"
   ]
  },
  {
   "cell_type": "markdown",
   "metadata": {},
   "source": [
    "A simple way to store big data sets is to use csv files(comma separated files)\n",
    "\n",
    "csv files contains plain text and is a well know format that can be read by everyone including pandas."
   ]
  },
  {
   "cell_type": "code",
   "execution_count": 37,
   "metadata": {},
   "outputs": [
    {
     "name": "stdout",
     "output_type": "stream",
     "text": [
      "   python  c++  java\n",
      "0       1    1     1\n",
      "1       2    2     2\n",
      "2       3    3     3\n",
      "3       4    4     4\n",
      "4       5    5     5\n",
      "5       6    6     6\n",
      "<class 'pandas.core.frame.DataFrame'>\n"
     ]
    }
   ],
   "source": [
    "import pandas as pd\n",
    "csv_1 = pd.read_csv(\"Test_new.csv_1\")\n",
    "\n",
    "print(csv_1)\n",
    "print(type(csv_1))"
   ]
  },
  {
   "cell_type": "code",
   "execution_count": 40,
   "metadata": {},
   "outputs": [
    {
     "name": "stdout",
     "output_type": "stream",
     "text": [
      "   python  c++  java\n",
      "0       1    1     1\n",
      "1       2    2     2\n",
      "2       3    3     3\n"
     ]
    }
   ],
   "source": [
    "csv_1 = pd.read_csv(\"Test_new.csv_1\",nrows=3)\n",
    "print(csv_1)"
   ]
  },
  {
   "cell_type": "code",
   "execution_count": 41,
   "metadata": {},
   "outputs": [
    {
     "name": "stdout",
     "output_type": "stream",
     "text": [
      "   python  c++\n",
      "0       1    1\n",
      "1       2    2\n",
      "2       3    3\n",
      "3       4    4\n",
      "4       5    5\n",
      "5       6    6\n"
     ]
    }
   ],
   "source": [
    "csv_1 = pd.read_csv(\"Test_new.csv_1\",usecols=[0,1] ) # columns name/ columns index  \n",
    "print(csv_1)"
   ]
  },
  {
   "cell_type": "code",
   "execution_count": 42,
   "metadata": {},
   "outputs": [
    {
     "name": "stdout",
     "output_type": "stream",
     "text": [
      "   python  c++  java\n",
      "0       3    3     3\n",
      "1       4    4     4\n",
      "2       5    5     5\n",
      "3       6    6     6\n"
     ]
    }
   ],
   "source": [
    "csv_2 = pd.read_csv(\"Test_new.csv_1\",skiprows=[2,1]) # rows  index  \n",
    "print(csv_2)"
   ]
  },
  {
   "cell_type": "code",
   "execution_count": 43,
   "metadata": {},
   "outputs": [
    {
     "name": "stdout",
     "output_type": "stream",
     "text": [
      "        c++  java\n",
      "python           \n",
      "1         1     1\n",
      "2         2     2\n",
      "3         3     3\n",
      "4         4     4\n",
      "5         5     5\n",
      "6         6     6\n"
     ]
    }
   ],
   "source": [
    "csv_1 = pd.read_csv(\"Test_new.csv_1\", index_col=\"python\") # columns name/ columns index  \n",
    "print(csv_1)"
   ]
  },
  {
   "cell_type": "code",
   "execution_count": 44,
   "metadata": {},
   "outputs": [
    {
     "name": "stdout",
     "output_type": "stream",
     "text": [
      "   2  2.1  2.2\n",
      "0  3    3    3\n",
      "1  4    4    4\n",
      "2  5    5    5\n",
      "3  6    6    6\n"
     ]
    }
   ],
   "source": [
    "csv_3 = pd.read_csv(\"Test_new.csv_1\",header=2) # row index  \n",
    "print(csv_3)"
   ]
  },
  {
   "cell_type": "code",
   "execution_count": 45,
   "metadata": {},
   "outputs": [
    {
     "name": "stdout",
     "output_type": "stream",
     "text": [
      "        a    b     c\n",
      "0  python  c++  java\n",
      "1       1    1     1\n",
      "2       2    2     2\n",
      "3       3    3     3\n",
      "4       4    4     4\n",
      "5       5    5     5\n",
      "6       6    6     6\n"
     ]
    }
   ],
   "source": [
    "import pandas as pd\n",
    "csv_4 = pd.read_csv(\"Test_new.csv_1\",names=[\"a\", \"b\", \"c\"])  \n",
    "print(csv_4)"
   ]
  },
  {
   "cell_type": "code",
   "execution_count": 46,
   "metadata": {},
   "outputs": [
    {
     "name": "stdout",
     "output_type": "stream",
     "text": [
      "   python  c++  java\n",
      "0       1  1.0     1\n",
      "1       2  2.0     2\n",
      "2       3  3.0     3\n",
      "3       4  4.0     4\n",
      "4       5  5.0     5\n",
      "5       6  6.0     6\n"
     ]
    }
   ],
   "source": [
    "csv_5= pd.read_csv(\"Test_new.csv_1\",dtype={\"c++\":\"float\"}) # change the data type\n",
    "print(csv_5) "
   ]
  },
  {
   "cell_type": "markdown",
   "metadata": {},
   "source": [
    "#  csv file function using pandas"
   ]
  },
  {
   "cell_type": "code",
   "execution_count": 48,
   "metadata": {},
   "outputs": [
    {
     "name": "stdout",
     "output_type": "stream",
     "text": [
      "   python  c++  java\n",
      "0       1    1     1\n",
      "1       2    2     2\n",
      "2       3    3     3\n",
      "3       4    4     4\n",
      "4       5    5     5\n",
      "5       6    6     6\n"
     ]
    }
   ],
   "source": [
    "import pandas as pd\n",
    "csv_6=pd.read_csv(\"Test_new.csv_1\") \n",
    "print(csv_6) "
   ]
  },
  {
   "cell_type": "code",
   "execution_count": 49,
   "metadata": {},
   "outputs": [
    {
     "data": {
      "text/plain": [
       "RangeIndex(start=0, stop=6, step=1)"
      ]
     },
     "execution_count": 49,
     "metadata": {},
     "output_type": "execute_result"
    }
   ],
   "source": [
    "csv_6.index"
   ]
  },
  {
   "cell_type": "code",
   "execution_count": 50,
   "metadata": {},
   "outputs": [
    {
     "data": {
      "text/plain": [
       "Index(['python', 'c++', 'java'], dtype='object')"
      ]
     },
     "execution_count": 50,
     "metadata": {},
     "output_type": "execute_result"
    }
   ],
   "source": [
    "csv_6.columns"
   ]
  },
  {
   "cell_type": "code",
   "execution_count": 51,
   "metadata": {},
   "outputs": [
    {
     "data": {
      "text/html": [
       "<div>\n",
       "<style scoped>\n",
       "    .dataframe tbody tr th:only-of-type {\n",
       "        vertical-align: middle;\n",
       "    }\n",
       "\n",
       "    .dataframe tbody tr th {\n",
       "        vertical-align: top;\n",
       "    }\n",
       "\n",
       "    .dataframe thead th {\n",
       "        text-align: right;\n",
       "    }\n",
       "</style>\n",
       "<table border=\"1\" class=\"dataframe\">\n",
       "  <thead>\n",
       "    <tr style=\"text-align: right;\">\n",
       "      <th></th>\n",
       "      <th>python</th>\n",
       "      <th>c++</th>\n",
       "      <th>java</th>\n",
       "    </tr>\n",
       "  </thead>\n",
       "  <tbody>\n",
       "    <tr>\n",
       "      <th>count</th>\n",
       "      <td>6.000000</td>\n",
       "      <td>6.000000</td>\n",
       "      <td>6.000000</td>\n",
       "    </tr>\n",
       "    <tr>\n",
       "      <th>mean</th>\n",
       "      <td>3.500000</td>\n",
       "      <td>3.500000</td>\n",
       "      <td>3.500000</td>\n",
       "    </tr>\n",
       "    <tr>\n",
       "      <th>std</th>\n",
       "      <td>1.870829</td>\n",
       "      <td>1.870829</td>\n",
       "      <td>1.870829</td>\n",
       "    </tr>\n",
       "    <tr>\n",
       "      <th>min</th>\n",
       "      <td>1.000000</td>\n",
       "      <td>1.000000</td>\n",
       "      <td>1.000000</td>\n",
       "    </tr>\n",
       "    <tr>\n",
       "      <th>25%</th>\n",
       "      <td>2.250000</td>\n",
       "      <td>2.250000</td>\n",
       "      <td>2.250000</td>\n",
       "    </tr>\n",
       "    <tr>\n",
       "      <th>50%</th>\n",
       "      <td>3.500000</td>\n",
       "      <td>3.500000</td>\n",
       "      <td>3.500000</td>\n",
       "    </tr>\n",
       "    <tr>\n",
       "      <th>75%</th>\n",
       "      <td>4.750000</td>\n",
       "      <td>4.750000</td>\n",
       "      <td>4.750000</td>\n",
       "    </tr>\n",
       "    <tr>\n",
       "      <th>max</th>\n",
       "      <td>6.000000</td>\n",
       "      <td>6.000000</td>\n",
       "      <td>6.000000</td>\n",
       "    </tr>\n",
       "  </tbody>\n",
       "</table>\n",
       "</div>"
      ],
      "text/plain": [
       "         python       c++      java\n",
       "count  6.000000  6.000000  6.000000\n",
       "mean   3.500000  3.500000  3.500000\n",
       "std    1.870829  1.870829  1.870829\n",
       "min    1.000000  1.000000  1.000000\n",
       "25%    2.250000  2.250000  2.250000\n",
       "50%    3.500000  3.500000  3.500000\n",
       "75%    4.750000  4.750000  4.750000\n",
       "max    6.000000  6.000000  6.000000"
      ]
     },
     "execution_count": 51,
     "metadata": {},
     "output_type": "execute_result"
    }
   ],
   "source": [
    "csv_6.describe() "
   ]
  },
  {
   "cell_type": "code",
   "execution_count": 52,
   "metadata": {},
   "outputs": [
    {
     "data": {
      "text/html": [
       "<div>\n",
       "<style scoped>\n",
       "    .dataframe tbody tr th:only-of-type {\n",
       "        vertical-align: middle;\n",
       "    }\n",
       "\n",
       "    .dataframe tbody tr th {\n",
       "        vertical-align: top;\n",
       "    }\n",
       "\n",
       "    .dataframe thead th {\n",
       "        text-align: right;\n",
       "    }\n",
       "</style>\n",
       "<table border=\"1\" class=\"dataframe\">\n",
       "  <thead>\n",
       "    <tr style=\"text-align: right;\">\n",
       "      <th></th>\n",
       "      <th>python</th>\n",
       "      <th>c++</th>\n",
       "      <th>java</th>\n",
       "    </tr>\n",
       "  </thead>\n",
       "  <tbody>\n",
       "    <tr>\n",
       "      <th>0</th>\n",
       "      <td>1</td>\n",
       "      <td>1</td>\n",
       "      <td>1</td>\n",
       "    </tr>\n",
       "    <tr>\n",
       "      <th>1</th>\n",
       "      <td>2</td>\n",
       "      <td>2</td>\n",
       "      <td>2</td>\n",
       "    </tr>\n",
       "  </tbody>\n",
       "</table>\n",
       "</div>"
      ],
      "text/plain": [
       "   python  c++  java\n",
       "0       1    1     1\n",
       "1       2    2     2"
      ]
     },
     "execution_count": 52,
     "metadata": {},
     "output_type": "execute_result"
    }
   ],
   "source": [
    "csv_6.head(2)"
   ]
  },
  {
   "cell_type": "code",
   "execution_count": 53,
   "metadata": {},
   "outputs": [
    {
     "data": {
      "text/html": [
       "<div>\n",
       "<style scoped>\n",
       "    .dataframe tbody tr th:only-of-type {\n",
       "        vertical-align: middle;\n",
       "    }\n",
       "\n",
       "    .dataframe tbody tr th {\n",
       "        vertical-align: top;\n",
       "    }\n",
       "\n",
       "    .dataframe thead th {\n",
       "        text-align: right;\n",
       "    }\n",
       "</style>\n",
       "<table border=\"1\" class=\"dataframe\">\n",
       "  <thead>\n",
       "    <tr style=\"text-align: right;\">\n",
       "      <th></th>\n",
       "      <th>python</th>\n",
       "      <th>c++</th>\n",
       "      <th>java</th>\n",
       "    </tr>\n",
       "  </thead>\n",
       "  <tbody>\n",
       "    <tr>\n",
       "      <th>1</th>\n",
       "      <td>2</td>\n",
       "      <td>2</td>\n",
       "      <td>2</td>\n",
       "    </tr>\n",
       "    <tr>\n",
       "      <th>2</th>\n",
       "      <td>3</td>\n",
       "      <td>3</td>\n",
       "      <td>3</td>\n",
       "    </tr>\n",
       "    <tr>\n",
       "      <th>3</th>\n",
       "      <td>4</td>\n",
       "      <td>4</td>\n",
       "      <td>4</td>\n",
       "    </tr>\n",
       "    <tr>\n",
       "      <th>4</th>\n",
       "      <td>5</td>\n",
       "      <td>5</td>\n",
       "      <td>5</td>\n",
       "    </tr>\n",
       "    <tr>\n",
       "      <th>5</th>\n",
       "      <td>6</td>\n",
       "      <td>6</td>\n",
       "      <td>6</td>\n",
       "    </tr>\n",
       "  </tbody>\n",
       "</table>\n",
       "</div>"
      ],
      "text/plain": [
       "   python  c++  java\n",
       "1       2    2     2\n",
       "2       3    3     3\n",
       "3       4    4     4\n",
       "4       5    5     5\n",
       "5       6    6     6"
      ]
     },
     "execution_count": 53,
     "metadata": {},
     "output_type": "execute_result"
    }
   ],
   "source": [
    "csv_6.tail()"
   ]
  },
  {
   "cell_type": "code",
   "execution_count": 54,
   "metadata": {},
   "outputs": [
    {
     "data": {
      "text/html": [
       "<div>\n",
       "<style scoped>\n",
       "    .dataframe tbody tr th:only-of-type {\n",
       "        vertical-align: middle;\n",
       "    }\n",
       "\n",
       "    .dataframe tbody tr th {\n",
       "        vertical-align: top;\n",
       "    }\n",
       "\n",
       "    .dataframe thead th {\n",
       "        text-align: right;\n",
       "    }\n",
       "</style>\n",
       "<table border=\"1\" class=\"dataframe\">\n",
       "  <thead>\n",
       "    <tr style=\"text-align: right;\">\n",
       "      <th></th>\n",
       "      <th>python</th>\n",
       "      <th>c++</th>\n",
       "      <th>java</th>\n",
       "    </tr>\n",
       "  </thead>\n",
       "  <tbody>\n",
       "    <tr>\n",
       "      <th>3</th>\n",
       "      <td>4</td>\n",
       "      <td>4</td>\n",
       "      <td>4</td>\n",
       "    </tr>\n",
       "    <tr>\n",
       "      <th>4</th>\n",
       "      <td>5</td>\n",
       "      <td>5</td>\n",
       "      <td>5</td>\n",
       "    </tr>\n",
       "    <tr>\n",
       "      <th>5</th>\n",
       "      <td>6</td>\n",
       "      <td>6</td>\n",
       "      <td>6</td>\n",
       "    </tr>\n",
       "  </tbody>\n",
       "</table>\n",
       "</div>"
      ],
      "text/plain": [
       "   python  c++  java\n",
       "3       4    4     4\n",
       "4       5    5     5\n",
       "5       6    6     6"
      ]
     },
     "execution_count": 54,
     "metadata": {},
     "output_type": "execute_result"
    }
   ],
   "source": [
    "  csv_6.tail(3)"
   ]
  },
  {
   "cell_type": "code",
   "execution_count": 55,
   "metadata": {},
   "outputs": [
    {
     "data": {
      "text/html": [
       "<div>\n",
       "<style scoped>\n",
       "    .dataframe tbody tr th:only-of-type {\n",
       "        vertical-align: middle;\n",
       "    }\n",
       "\n",
       "    .dataframe tbody tr th {\n",
       "        vertical-align: top;\n",
       "    }\n",
       "\n",
       "    .dataframe thead th {\n",
       "        text-align: right;\n",
       "    }\n",
       "</style>\n",
       "<table border=\"1\" class=\"dataframe\">\n",
       "  <thead>\n",
       "    <tr style=\"text-align: right;\">\n",
       "      <th></th>\n",
       "      <th>python</th>\n",
       "      <th>c++</th>\n",
       "      <th>java</th>\n",
       "    </tr>\n",
       "  </thead>\n",
       "  <tbody>\n",
       "    <tr>\n",
       "      <th>1</th>\n",
       "      <td>2</td>\n",
       "      <td>2</td>\n",
       "      <td>2</td>\n",
       "    </tr>\n",
       "    <tr>\n",
       "      <th>3</th>\n",
       "      <td>4</td>\n",
       "      <td>4</td>\n",
       "      <td>4</td>\n",
       "    </tr>\n",
       "    <tr>\n",
       "      <th>5</th>\n",
       "      <td>6</td>\n",
       "      <td>6</td>\n",
       "      <td>6</td>\n",
       "    </tr>\n",
       "  </tbody>\n",
       "</table>\n",
       "</div>"
      ],
      "text/plain": [
       "   python  c++  java\n",
       "1       2    2     2\n",
       "3       4    4     4\n",
       "5       6    6     6"
      ]
     },
     "execution_count": 55,
     "metadata": {},
     "output_type": "execute_result"
    }
   ],
   "source": [
    "# slicing\n",
    "csv_6[1::2]"
   ]
  },
  {
   "cell_type": "code",
   "execution_count": 56,
   "metadata": {},
   "outputs": [
    {
     "data": {
      "text/html": [
       "<div>\n",
       "<style scoped>\n",
       "    .dataframe tbody tr th:only-of-type {\n",
       "        vertical-align: middle;\n",
       "    }\n",
       "\n",
       "    .dataframe tbody tr th {\n",
       "        vertical-align: top;\n",
       "    }\n",
       "\n",
       "    .dataframe thead th {\n",
       "        text-align: right;\n",
       "    }\n",
       "</style>\n",
       "<table border=\"1\" class=\"dataframe\">\n",
       "  <thead>\n",
       "    <tr style=\"text-align: right;\">\n",
       "      <th></th>\n",
       "      <th>python</th>\n",
       "      <th>c++</th>\n",
       "      <th>java</th>\n",
       "    </tr>\n",
       "  </thead>\n",
       "  <tbody>\n",
       "    <tr>\n",
       "      <th>1</th>\n",
       "      <td>2</td>\n",
       "      <td>2</td>\n",
       "      <td>2</td>\n",
       "    </tr>\n",
       "    <tr>\n",
       "      <th>2</th>\n",
       "      <td>3</td>\n",
       "      <td>3</td>\n",
       "      <td>3</td>\n",
       "    </tr>\n",
       "    <tr>\n",
       "      <th>3</th>\n",
       "      <td>4</td>\n",
       "      <td>4</td>\n",
       "      <td>4</td>\n",
       "    </tr>\n",
       "  </tbody>\n",
       "</table>\n",
       "</div>"
      ],
      "text/plain": [
       "   python  c++  java\n",
       "1       2    2     2\n",
       "2       3    3     3\n",
       "3       4    4     4"
      ]
     },
     "execution_count": 56,
     "metadata": {},
     "output_type": "execute_result"
    }
   ],
   "source": [
    "csv_6[1:4]"
   ]
  },
  {
   "cell_type": "code",
   "execution_count": 57,
   "metadata": {},
   "outputs": [
    {
     "data": {
      "text/plain": [
       "<PandasArray>\n",
       "[0, 1, 2, 3, 4, 5]\n",
       "Length: 6, dtype: int64"
      ]
     },
     "execution_count": 57,
     "metadata": {},
     "output_type": "execute_result"
    }
   ],
   "source": [
    "csv_6.index.array"
   ]
  },
  {
   "cell_type": "code",
   "execution_count": 58,
   "metadata": {},
   "outputs": [
    {
     "data": {
      "text/plain": [
       "array([[1, 1, 1],\n",
       "       [2, 2, 2],\n",
       "       [3, 3, 3],\n",
       "       [4, 4, 4],\n",
       "       [5, 5, 5],\n",
       "       [6, 6, 6]], dtype=int64)"
      ]
     },
     "execution_count": 58,
     "metadata": {},
     "output_type": "execute_result"
    }
   ],
   "source": [
    "csv_6.to_numpy()"
   ]
  },
  {
   "cell_type": "code",
   "execution_count": 59,
   "metadata": {},
   "outputs": [
    {
     "data": {
      "text/plain": [
       "array([[1, 1, 1],\n",
       "       [2, 2, 2],\n",
       "       [3, 3, 3],\n",
       "       [4, 4, 4],\n",
       "       [5, 5, 5],\n",
       "       [6, 6, 6]], dtype=int64)"
      ]
     },
     "execution_count": 59,
     "metadata": {},
     "output_type": "execute_result"
    }
   ],
   "source": [
    "import numpy as np\n",
    "v =np.asarray(csv_6)\n",
    "v"
   ]
  },
  {
   "cell_type": "code",
   "execution_count": 60,
   "metadata": {},
   "outputs": [
    {
     "data": {
      "text/html": [
       "<div>\n",
       "<style scoped>\n",
       "    .dataframe tbody tr th:only-of-type {\n",
       "        vertical-align: middle;\n",
       "    }\n",
       "\n",
       "    .dataframe tbody tr th {\n",
       "        vertical-align: top;\n",
       "    }\n",
       "\n",
       "    .dataframe thead th {\n",
       "        text-align: right;\n",
       "    }\n",
       "</style>\n",
       "<table border=\"1\" class=\"dataframe\">\n",
       "  <thead>\n",
       "    <tr style=\"text-align: right;\">\n",
       "      <th></th>\n",
       "      <th>python</th>\n",
       "      <th>c++</th>\n",
       "      <th>java</th>\n",
       "    </tr>\n",
       "  </thead>\n",
       "  <tbody>\n",
       "    <tr>\n",
       "      <th>5</th>\n",
       "      <td>6</td>\n",
       "      <td>6</td>\n",
       "      <td>6</td>\n",
       "    </tr>\n",
       "    <tr>\n",
       "      <th>4</th>\n",
       "      <td>5</td>\n",
       "      <td>5</td>\n",
       "      <td>5</td>\n",
       "    </tr>\n",
       "    <tr>\n",
       "      <th>3</th>\n",
       "      <td>4</td>\n",
       "      <td>4</td>\n",
       "      <td>4</td>\n",
       "    </tr>\n",
       "    <tr>\n",
       "      <th>2</th>\n",
       "      <td>3</td>\n",
       "      <td>3</td>\n",
       "      <td>3</td>\n",
       "    </tr>\n",
       "    <tr>\n",
       "      <th>1</th>\n",
       "      <td>2</td>\n",
       "      <td>2</td>\n",
       "      <td>2</td>\n",
       "    </tr>\n",
       "    <tr>\n",
       "      <th>0</th>\n",
       "      <td>1</td>\n",
       "      <td>1</td>\n",
       "      <td>1</td>\n",
       "    </tr>\n",
       "  </tbody>\n",
       "</table>\n",
       "</div>"
      ],
      "text/plain": [
       "   python  c++  java\n",
       "5       6    6     6\n",
       "4       5    5     5\n",
       "3       4    4     4\n",
       "2       3    3     3\n",
       "1       2    2     2\n",
       "0       1    1     1"
      ]
     },
     "execution_count": 60,
     "metadata": {},
     "output_type": "execute_result"
    }
   ],
   "source": [
    "csv_6 .sort_index(axis=0,ascending=False)"
   ]
  },
  {
   "cell_type": "code",
   "execution_count": 61,
   "metadata": {},
   "outputs": [
    {
     "name": "stdout",
     "output_type": "stream",
     "text": [
      "  python  c++  java\n",
      "0  ankit    1     1\n",
      "1      2    2     2\n",
      "2      3    3     3\n",
      "3      4    4     4\n",
      "4      5    5     5\n",
      "5      6    6     6\n"
     ]
    }
   ],
   "source": [
    "csv_6.loc[0,\"python\"]=\"ankit\" \n",
    "print(csv_6)"
   ]
  },
  {
   "cell_type": "code",
   "execution_count": 62,
   "metadata": {},
   "outputs": [
    {
     "name": "stdout",
     "output_type": "stream",
     "text": [
      "  python  c++  java\n",
      "0  ankit    1     1\n",
      "1      2    2     2\n",
      "2     31    3     3\n",
      "3      4    4     4\n",
      "4      5    5     5\n",
      "5      6    6     6\n"
     ]
    }
   ],
   "source": [
    "csv_6.loc[2,\"python\"]=\"31\" # insert values\n",
    "print(csv_6)"
   ]
  },
  {
   "cell_type": "code",
   "execution_count": 64,
   "metadata": {},
   "outputs": [
    {
     "data": {
      "text/html": [
       "<div>\n",
       "<style scoped>\n",
       "    .dataframe tbody tr th:only-of-type {\n",
       "        vertical-align: middle;\n",
       "    }\n",
       "\n",
       "    .dataframe tbody tr th {\n",
       "        vertical-align: top;\n",
       "    }\n",
       "\n",
       "    .dataframe thead th {\n",
       "        text-align: right;\n",
       "    }\n",
       "</style>\n",
       "<table border=\"1\" class=\"dataframe\">\n",
       "  <thead>\n",
       "    <tr style=\"text-align: right;\">\n",
       "      <th></th>\n",
       "      <th>python</th>\n",
       "    </tr>\n",
       "  </thead>\n",
       "  <tbody>\n",
       "    <tr>\n",
       "      <th>0</th>\n",
       "      <td>1</td>\n",
       "    </tr>\n",
       "  </tbody>\n",
       "</table>\n",
       "</div>"
      ],
      "text/plain": [
       "   python\n",
       "0       1"
      ]
     },
     "execution_count": 64,
     "metadata": {},
     "output_type": "execute_result"
    }
   ],
   "source": [
    "csv_7=pd.read_csv(\"Test_new.csv_1\") # get values\n",
    "csv_7.loc[[0],[\"python\"]]"
   ]
  },
  {
   "cell_type": "code",
   "execution_count": 23,
   "metadata": {},
   "outputs": [
    {
     "data": {
      "text/html": [
       "<div>\n",
       "<style scoped>\n",
       "    .dataframe tbody tr th:only-of-type {\n",
       "        vertical-align: middle;\n",
       "    }\n",
       "\n",
       "    .dataframe tbody tr th {\n",
       "        vertical-align: top;\n",
       "    }\n",
       "\n",
       "    .dataframe thead th {\n",
       "        text-align: right;\n",
       "    }\n",
       "</style>\n",
       "<table border=\"1\" class=\"dataframe\">\n",
       "  <thead>\n",
       "    <tr style=\"text-align: right;\">\n",
       "      <th></th>\n",
       "      <th>python</th>\n",
       "      <th>c++</th>\n",
       "      <th>java</th>\n",
       "    </tr>\n",
       "  </thead>\n",
       "  <tbody>\n",
       "    <tr>\n",
       "      <th>0</th>\n",
       "      <td>1</td>\n",
       "      <td>1</td>\n",
       "      <td>1</td>\n",
       "    </tr>\n",
       "    <tr>\n",
       "      <th>1</th>\n",
       "      <td>2</td>\n",
       "      <td>2</td>\n",
       "      <td>2</td>\n",
       "    </tr>\n",
       "    <tr>\n",
       "      <th>2</th>\n",
       "      <td>3</td>\n",
       "      <td>3</td>\n",
       "      <td>3</td>\n",
       "    </tr>\n",
       "    <tr>\n",
       "      <th>3</th>\n",
       "      <td>4</td>\n",
       "      <td>4</td>\n",
       "      <td>4</td>\n",
       "    </tr>\n",
       "    <tr>\n",
       "      <th>4</th>\n",
       "      <td>5</td>\n",
       "      <td>5</td>\n",
       "      <td>5</td>\n",
       "    </tr>\n",
       "    <tr>\n",
       "      <th>5</th>\n",
       "      <td>6</td>\n",
       "      <td>6</td>\n",
       "      <td>6</td>\n",
       "    </tr>\n",
       "  </tbody>\n",
       "</table>\n",
       "</div>"
      ],
      "text/plain": [
       "   python  c++  java\n",
       "0       1    1     1\n",
       "1       2    2     2\n",
       "2       3    3     3\n",
       "3       4    4     4\n",
       "4       5    5     5\n",
       "5       6    6     6"
      ]
     },
     "execution_count": 23,
     "metadata": {},
     "output_type": "execute_result"
    }
   ],
   "source": [
    "csv_7.loc[[0,2],[\"python\",\"c++\"]]\n",
    "csv_7"
   ]
  },
  {
   "cell_type": "code",
   "execution_count": 65,
   "metadata": {},
   "outputs": [
    {
     "name": "stdout",
     "output_type": "stream",
     "text": [
      "   python  c++  java\n",
      "0       1    1     1\n",
      "1       2    2     2\n",
      "2       3    3     3\n",
      "3       4    4     4\n",
      "4       5    5     5\n",
      "5       6    6     6\n"
     ]
    }
   ],
   "source": [
    "import pandas as pd\n",
    "csv_8=pd.read_csv(\"Test_new.csv_1\")\n",
    "csv_8.iloc[0,2] # get single value\n",
    "print(csv_8)"
   ]
  },
  {
   "cell_type": "code",
   "execution_count": 66,
   "metadata": {},
   "outputs": [
    {
     "data": {
      "text/plain": [
       "1"
      ]
     },
     "execution_count": 66,
     "metadata": {},
     "output_type": "execute_result"
    }
   ],
   "source": [
    "csv_8.iloc[0,2] "
   ]
  },
  {
   "cell_type": "code",
   "execution_count": 67,
   "metadata": {},
   "outputs": [
    {
     "data": {
      "text/html": [
       "<div>\n",
       "<style scoped>\n",
       "    .dataframe tbody tr th:only-of-type {\n",
       "        vertical-align: middle;\n",
       "    }\n",
       "\n",
       "    .dataframe tbody tr th {\n",
       "        vertical-align: top;\n",
       "    }\n",
       "\n",
       "    .dataframe thead th {\n",
       "        text-align: right;\n",
       "    }\n",
       "</style>\n",
       "<table border=\"1\" class=\"dataframe\">\n",
       "  <thead>\n",
       "    <tr style=\"text-align: right;\">\n",
       "      <th></th>\n",
       "      <th>python</th>\n",
       "      <th>java</th>\n",
       "    </tr>\n",
       "  </thead>\n",
       "  <tbody>\n",
       "    <tr>\n",
       "      <th>0</th>\n",
       "      <td>1</td>\n",
       "      <td>1</td>\n",
       "    </tr>\n",
       "    <tr>\n",
       "      <th>1</th>\n",
       "      <td>2</td>\n",
       "      <td>2</td>\n",
       "    </tr>\n",
       "    <tr>\n",
       "      <th>2</th>\n",
       "      <td>3</td>\n",
       "      <td>3</td>\n",
       "    </tr>\n",
       "    <tr>\n",
       "      <th>3</th>\n",
       "      <td>4</td>\n",
       "      <td>4</td>\n",
       "    </tr>\n",
       "    <tr>\n",
       "      <th>4</th>\n",
       "      <td>5</td>\n",
       "      <td>5</td>\n",
       "    </tr>\n",
       "    <tr>\n",
       "      <th>5</th>\n",
       "      <td>6</td>\n",
       "      <td>6</td>\n",
       "    </tr>\n",
       "  </tbody>\n",
       "</table>\n",
       "</div>"
      ],
      "text/plain": [
       "   python  java\n",
       "0       1     1\n",
       "1       2     2\n",
       "2       3     3\n",
       "3       4     4\n",
       "4       5     5\n",
       "5       6     6"
      ]
     },
     "execution_count": 67,
     "metadata": {},
     "output_type": "execute_result"
    }
   ],
   "source": [
    "\n",
    "csv_8.drop(\"c++\",axis=1) # rows=0/columns=1\n"
   ]
  },
  {
   "cell_type": "code",
   "execution_count": 68,
   "metadata": {},
   "outputs": [
    {
     "data": {
      "text/html": [
       "<div>\n",
       "<style scoped>\n",
       "    .dataframe tbody tr th:only-of-type {\n",
       "        vertical-align: middle;\n",
       "    }\n",
       "\n",
       "    .dataframe tbody tr th {\n",
       "        vertical-align: top;\n",
       "    }\n",
       "\n",
       "    .dataframe thead th {\n",
       "        text-align: right;\n",
       "    }\n",
       "</style>\n",
       "<table border=\"1\" class=\"dataframe\">\n",
       "  <thead>\n",
       "    <tr style=\"text-align: right;\">\n",
       "      <th></th>\n",
       "      <th>python</th>\n",
       "      <th>c++</th>\n",
       "      <th>java</th>\n",
       "    </tr>\n",
       "  </thead>\n",
       "  <tbody>\n",
       "    <tr>\n",
       "      <th>1</th>\n",
       "      <td>2</td>\n",
       "      <td>2</td>\n",
       "      <td>2</td>\n",
       "    </tr>\n",
       "    <tr>\n",
       "      <th>2</th>\n",
       "      <td>3</td>\n",
       "      <td>3</td>\n",
       "      <td>3</td>\n",
       "    </tr>\n",
       "    <tr>\n",
       "      <th>3</th>\n",
       "      <td>4</td>\n",
       "      <td>4</td>\n",
       "      <td>4</td>\n",
       "    </tr>\n",
       "    <tr>\n",
       "      <th>4</th>\n",
       "      <td>5</td>\n",
       "      <td>5</td>\n",
       "      <td>5</td>\n",
       "    </tr>\n",
       "    <tr>\n",
       "      <th>5</th>\n",
       "      <td>6</td>\n",
       "      <td>6</td>\n",
       "      <td>6</td>\n",
       "    </tr>\n",
       "  </tbody>\n",
       "</table>\n",
       "</div>"
      ],
      "text/plain": [
       "   python  c++  java\n",
       "1       2    2     2\n",
       "2       3    3     3\n",
       "3       4    4     4\n",
       "4       5    5     5\n",
       "5       6    6     6"
      ]
     },
     "execution_count": 68,
     "metadata": {},
     "output_type": "execute_result"
    }
   ],
   "source": [
    " csv_8.drop(0,axis=0)"
   ]
  },
  {
   "cell_type": "markdown",
   "metadata": {},
   "source": [
    "# handling missing values(dropna & fillna) in python pandas"
   ]
  },
  {
   "cell_type": "code",
   "execution_count": 72,
   "metadata": {
    "scrolled": true
   },
   "outputs": [
    {
     "name": "stdout",
     "output_type": "stream",
     "text": [
      "    SR.      NAME  GENDER  AGE       DATE         COUNTRY\n",
      "0     1      Dett    Male   18  21/05/2015  Great Britain\n",
      "1     2     Nern   Female   19  15/10/2017         France\n",
      "2     3   Kallsie    Male   20  16/08/2016         France\n",
      "3     4     Siuau  Female   21  21/05/2015  Great Britain\n",
      "4     5  Shennice    Male   22  21/05/2016         France\n",
      "5     6    Chasse  Female   23  15/10/2018         France\n",
      "6     7    Tommye    Male   24  16/08/2017  United States\n",
      "7     8   Dorcast  Female   25  21/05/2016  United States\n",
      "8     9   Angelee    Male   26  21/05/2017  Great Britain\n",
      "9    10   Willoom  Female   27  15/10/2019         France\n",
      "10   11   Waeston    Male   28  16/08/2018            NaN\n",
      "11   12     Rosma  Female   29  21/05/2017            NaN\n",
      "12   13  Felisaas    Male   30  21/05/2018            NaN\n",
      "13   14   Demetas  Female   31  15/10/2020  Great Britain\n",
      "14   15   Jeromyw  Female   32  16/08/2019         France\n",
      "15   16    Rashid  Female   33  21/05/2018            NaN\n",
      "16   17      Dett  Female   34  21/05/2019  United States\n",
      "17   18     Nern   Female   35  15/10/2021            NaN\n",
      "18   19   Kallsie  Female   36  16/08/2020            NaN\n",
      "19   20     Siuau  Female   37  21/05/2019         France\n",
      "20   21  Shennice  Female   38  21/05/2020            NaN\n",
      "21   22    Chasse     NaN   39  15/10/2022         France\n",
      "22   23    Tommye  Female   40  16/08/2021         France\n",
      "23   24   Dorcast  Female   41  21/05/2020  Great Britain\n",
      "24   25   Angelee  Female   42         NaN         France\n",
      "25   26   Willoom  Female   43  15/10/2023         France\n",
      "26   27   Waeston  Female   44  16/08/2022  United States\n",
      "27   28     Rosma  Female   45  21/05/2021  United States\n",
      "28   29  Felisaas  Female   46  21/05/2022  Great Britain\n",
      "29   30   Demetas  Female   47  15/10/2024         France\n",
      "30   31   Jeromyw  Female   48  16/08/2023  Great Britain\n",
      "31   32    Rashid  Female   49  21/05/2022         France\n",
      "32   33      Dett  Female   50  21/05/2023         France\n",
      "33   34     Nern   Female   51  15/10/2025  Great Britain\n",
      "34   35   Kallsie  Female   52  16/08/2024         France\n",
      "35   36     Siuau  Female   53  21/05/2023         France\n",
      "36   37  Shennice  Female   54  21/05/2024  United States\n",
      "37   38    Chasse  Female   55  15/10/2026  United States\n",
      "38   39    Tommye  Female   56  16/08/2025  Great Britain\n",
      "39   40   Dorcast  Female   57  21/05/2024         France\n",
      "40   41   Angelee  Female   58  21/05/2025  Great Britain\n",
      "41   42   Willoom  Female   59  15/10/2027         France\n",
      "42   43   Waeston  Female   60  16/08/2026         France\n",
      "43   44     Rosma  Female   61  21/05/2025  Great Britain\n",
      "44   45  Felisaas  Female   62  21/05/2026         France\n",
      "45   46   Demetas  Female   63  15/10/2028         France\n",
      "46   47   Jeromyw  Female   64  16/08/2027  United States\n",
      "47   48    Rashid  Female   65  21/05/2026  United States\n",
      "48   49      Dett    Male   18  21/05/2015  Great Britain\n"
     ]
    }
   ],
   "source": [
    "# dropna & fillna\n",
    "import pandas as pd\n",
    "v=pd.read_csv(\"C:\\\\Users\\\\ankit\\\\OneDrive\\\\Desktop\\\\dataset.csv\")\n",
    "# v.dropna(axis=1) # rows=0/columns=1\n",
    "# v.dropna(axis=0)\n",
    "print(v)\n"
   ]
  },
  {
   "cell_type": "code",
   "execution_count": 73,
   "metadata": {},
   "outputs": [
    {
     "data": {
      "text/html": [
       "<div>\n",
       "<style scoped>\n",
       "    .dataframe tbody tr th:only-of-type {\n",
       "        vertical-align: middle;\n",
       "    }\n",
       "\n",
       "    .dataframe tbody tr th {\n",
       "        vertical-align: top;\n",
       "    }\n",
       "\n",
       "    .dataframe thead th {\n",
       "        text-align: right;\n",
       "    }\n",
       "</style>\n",
       "<table border=\"1\" class=\"dataframe\">\n",
       "  <thead>\n",
       "    <tr style=\"text-align: right;\">\n",
       "      <th></th>\n",
       "      <th>SR.</th>\n",
       "      <th>NAME</th>\n",
       "      <th>AGE</th>\n",
       "    </tr>\n",
       "  </thead>\n",
       "  <tbody>\n",
       "    <tr>\n",
       "      <th>0</th>\n",
       "      <td>1</td>\n",
       "      <td>Dett</td>\n",
       "      <td>18</td>\n",
       "    </tr>\n",
       "    <tr>\n",
       "      <th>1</th>\n",
       "      <td>2</td>\n",
       "      <td>Nern</td>\n",
       "      <td>19</td>\n",
       "    </tr>\n",
       "    <tr>\n",
       "      <th>2</th>\n",
       "      <td>3</td>\n",
       "      <td>Kallsie</td>\n",
       "      <td>20</td>\n",
       "    </tr>\n",
       "    <tr>\n",
       "      <th>3</th>\n",
       "      <td>4</td>\n",
       "      <td>Siuau</td>\n",
       "      <td>21</td>\n",
       "    </tr>\n",
       "    <tr>\n",
       "      <th>4</th>\n",
       "      <td>5</td>\n",
       "      <td>Shennice</td>\n",
       "      <td>22</td>\n",
       "    </tr>\n",
       "    <tr>\n",
       "      <th>5</th>\n",
       "      <td>6</td>\n",
       "      <td>Chasse</td>\n",
       "      <td>23</td>\n",
       "    </tr>\n",
       "    <tr>\n",
       "      <th>6</th>\n",
       "      <td>7</td>\n",
       "      <td>Tommye</td>\n",
       "      <td>24</td>\n",
       "    </tr>\n",
       "    <tr>\n",
       "      <th>7</th>\n",
       "      <td>8</td>\n",
       "      <td>Dorcast</td>\n",
       "      <td>25</td>\n",
       "    </tr>\n",
       "    <tr>\n",
       "      <th>8</th>\n",
       "      <td>9</td>\n",
       "      <td>Angelee</td>\n",
       "      <td>26</td>\n",
       "    </tr>\n",
       "    <tr>\n",
       "      <th>9</th>\n",
       "      <td>10</td>\n",
       "      <td>Willoom</td>\n",
       "      <td>27</td>\n",
       "    </tr>\n",
       "    <tr>\n",
       "      <th>10</th>\n",
       "      <td>11</td>\n",
       "      <td>Waeston</td>\n",
       "      <td>28</td>\n",
       "    </tr>\n",
       "    <tr>\n",
       "      <th>11</th>\n",
       "      <td>12</td>\n",
       "      <td>Rosma</td>\n",
       "      <td>29</td>\n",
       "    </tr>\n",
       "    <tr>\n",
       "      <th>12</th>\n",
       "      <td>13</td>\n",
       "      <td>Felisaas</td>\n",
       "      <td>30</td>\n",
       "    </tr>\n",
       "    <tr>\n",
       "      <th>13</th>\n",
       "      <td>14</td>\n",
       "      <td>Demetas</td>\n",
       "      <td>31</td>\n",
       "    </tr>\n",
       "    <tr>\n",
       "      <th>14</th>\n",
       "      <td>15</td>\n",
       "      <td>Jeromyw</td>\n",
       "      <td>32</td>\n",
       "    </tr>\n",
       "    <tr>\n",
       "      <th>15</th>\n",
       "      <td>16</td>\n",
       "      <td>Rashid</td>\n",
       "      <td>33</td>\n",
       "    </tr>\n",
       "    <tr>\n",
       "      <th>16</th>\n",
       "      <td>17</td>\n",
       "      <td>Dett</td>\n",
       "      <td>34</td>\n",
       "    </tr>\n",
       "    <tr>\n",
       "      <th>17</th>\n",
       "      <td>18</td>\n",
       "      <td>Nern</td>\n",
       "      <td>35</td>\n",
       "    </tr>\n",
       "    <tr>\n",
       "      <th>18</th>\n",
       "      <td>19</td>\n",
       "      <td>Kallsie</td>\n",
       "      <td>36</td>\n",
       "    </tr>\n",
       "    <tr>\n",
       "      <th>19</th>\n",
       "      <td>20</td>\n",
       "      <td>Siuau</td>\n",
       "      <td>37</td>\n",
       "    </tr>\n",
       "    <tr>\n",
       "      <th>20</th>\n",
       "      <td>21</td>\n",
       "      <td>Shennice</td>\n",
       "      <td>38</td>\n",
       "    </tr>\n",
       "    <tr>\n",
       "      <th>21</th>\n",
       "      <td>22</td>\n",
       "      <td>Chasse</td>\n",
       "      <td>39</td>\n",
       "    </tr>\n",
       "    <tr>\n",
       "      <th>22</th>\n",
       "      <td>23</td>\n",
       "      <td>Tommye</td>\n",
       "      <td>40</td>\n",
       "    </tr>\n",
       "    <tr>\n",
       "      <th>23</th>\n",
       "      <td>24</td>\n",
       "      <td>Dorcast</td>\n",
       "      <td>41</td>\n",
       "    </tr>\n",
       "    <tr>\n",
       "      <th>24</th>\n",
       "      <td>25</td>\n",
       "      <td>Angelee</td>\n",
       "      <td>42</td>\n",
       "    </tr>\n",
       "    <tr>\n",
       "      <th>25</th>\n",
       "      <td>26</td>\n",
       "      <td>Willoom</td>\n",
       "      <td>43</td>\n",
       "    </tr>\n",
       "    <tr>\n",
       "      <th>26</th>\n",
       "      <td>27</td>\n",
       "      <td>Waeston</td>\n",
       "      <td>44</td>\n",
       "    </tr>\n",
       "    <tr>\n",
       "      <th>27</th>\n",
       "      <td>28</td>\n",
       "      <td>Rosma</td>\n",
       "      <td>45</td>\n",
       "    </tr>\n",
       "    <tr>\n",
       "      <th>28</th>\n",
       "      <td>29</td>\n",
       "      <td>Felisaas</td>\n",
       "      <td>46</td>\n",
       "    </tr>\n",
       "    <tr>\n",
       "      <th>29</th>\n",
       "      <td>30</td>\n",
       "      <td>Demetas</td>\n",
       "      <td>47</td>\n",
       "    </tr>\n",
       "    <tr>\n",
       "      <th>30</th>\n",
       "      <td>31</td>\n",
       "      <td>Jeromyw</td>\n",
       "      <td>48</td>\n",
       "    </tr>\n",
       "    <tr>\n",
       "      <th>31</th>\n",
       "      <td>32</td>\n",
       "      <td>Rashid</td>\n",
       "      <td>49</td>\n",
       "    </tr>\n",
       "    <tr>\n",
       "      <th>32</th>\n",
       "      <td>33</td>\n",
       "      <td>Dett</td>\n",
       "      <td>50</td>\n",
       "    </tr>\n",
       "    <tr>\n",
       "      <th>33</th>\n",
       "      <td>34</td>\n",
       "      <td>Nern</td>\n",
       "      <td>51</td>\n",
       "    </tr>\n",
       "    <tr>\n",
       "      <th>34</th>\n",
       "      <td>35</td>\n",
       "      <td>Kallsie</td>\n",
       "      <td>52</td>\n",
       "    </tr>\n",
       "    <tr>\n",
       "      <th>35</th>\n",
       "      <td>36</td>\n",
       "      <td>Siuau</td>\n",
       "      <td>53</td>\n",
       "    </tr>\n",
       "    <tr>\n",
       "      <th>36</th>\n",
       "      <td>37</td>\n",
       "      <td>Shennice</td>\n",
       "      <td>54</td>\n",
       "    </tr>\n",
       "    <tr>\n",
       "      <th>37</th>\n",
       "      <td>38</td>\n",
       "      <td>Chasse</td>\n",
       "      <td>55</td>\n",
       "    </tr>\n",
       "    <tr>\n",
       "      <th>38</th>\n",
       "      <td>39</td>\n",
       "      <td>Tommye</td>\n",
       "      <td>56</td>\n",
       "    </tr>\n",
       "    <tr>\n",
       "      <th>39</th>\n",
       "      <td>40</td>\n",
       "      <td>Dorcast</td>\n",
       "      <td>57</td>\n",
       "    </tr>\n",
       "    <tr>\n",
       "      <th>40</th>\n",
       "      <td>41</td>\n",
       "      <td>Angelee</td>\n",
       "      <td>58</td>\n",
       "    </tr>\n",
       "    <tr>\n",
       "      <th>41</th>\n",
       "      <td>42</td>\n",
       "      <td>Willoom</td>\n",
       "      <td>59</td>\n",
       "    </tr>\n",
       "    <tr>\n",
       "      <th>42</th>\n",
       "      <td>43</td>\n",
       "      <td>Waeston</td>\n",
       "      <td>60</td>\n",
       "    </tr>\n",
       "    <tr>\n",
       "      <th>43</th>\n",
       "      <td>44</td>\n",
       "      <td>Rosma</td>\n",
       "      <td>61</td>\n",
       "    </tr>\n",
       "    <tr>\n",
       "      <th>44</th>\n",
       "      <td>45</td>\n",
       "      <td>Felisaas</td>\n",
       "      <td>62</td>\n",
       "    </tr>\n",
       "    <tr>\n",
       "      <th>45</th>\n",
       "      <td>46</td>\n",
       "      <td>Demetas</td>\n",
       "      <td>63</td>\n",
       "    </tr>\n",
       "    <tr>\n",
       "      <th>46</th>\n",
       "      <td>47</td>\n",
       "      <td>Jeromyw</td>\n",
       "      <td>64</td>\n",
       "    </tr>\n",
       "    <tr>\n",
       "      <th>47</th>\n",
       "      <td>48</td>\n",
       "      <td>Rashid</td>\n",
       "      <td>65</td>\n",
       "    </tr>\n",
       "    <tr>\n",
       "      <th>48</th>\n",
       "      <td>49</td>\n",
       "      <td>Dett</td>\n",
       "      <td>18</td>\n",
       "    </tr>\n",
       "  </tbody>\n",
       "</table>\n",
       "</div>"
      ],
      "text/plain": [
       "    SR.      NAME  AGE\n",
       "0     1      Dett   18\n",
       "1     2     Nern    19\n",
       "2     3   Kallsie   20\n",
       "3     4     Siuau   21\n",
       "4     5  Shennice   22\n",
       "5     6    Chasse   23\n",
       "6     7    Tommye   24\n",
       "7     8   Dorcast   25\n",
       "8     9   Angelee   26\n",
       "9    10   Willoom   27\n",
       "10   11   Waeston   28\n",
       "11   12     Rosma   29\n",
       "12   13  Felisaas   30\n",
       "13   14   Demetas   31\n",
       "14   15   Jeromyw   32\n",
       "15   16    Rashid   33\n",
       "16   17      Dett   34\n",
       "17   18     Nern    35\n",
       "18   19   Kallsie   36\n",
       "19   20     Siuau   37\n",
       "20   21  Shennice   38\n",
       "21   22    Chasse   39\n",
       "22   23    Tommye   40\n",
       "23   24   Dorcast   41\n",
       "24   25   Angelee   42\n",
       "25   26   Willoom   43\n",
       "26   27   Waeston   44\n",
       "27   28     Rosma   45\n",
       "28   29  Felisaas   46\n",
       "29   30   Demetas   47\n",
       "30   31   Jeromyw   48\n",
       "31   32    Rashid   49\n",
       "32   33      Dett   50\n",
       "33   34     Nern    51\n",
       "34   35   Kallsie   52\n",
       "35   36     Siuau   53\n",
       "36   37  Shennice   54\n",
       "37   38    Chasse   55\n",
       "38   39    Tommye   56\n",
       "39   40   Dorcast   57\n",
       "40   41   Angelee   58\n",
       "41   42   Willoom   59\n",
       "42   43   Waeston   60\n",
       "43   44     Rosma   61\n",
       "44   45  Felisaas   62\n",
       "45   46   Demetas   63\n",
       "46   47   Jeromyw   64\n",
       "47   48    Rashid   65\n",
       "48   49      Dett   18"
      ]
     },
     "execution_count": 73,
     "metadata": {},
     "output_type": "execute_result"
    }
   ],
   "source": [
    "v.dropna(axis=1)"
   ]
  },
  {
   "cell_type": "code",
   "execution_count": 5,
   "metadata": {},
   "outputs": [
    {
     "data": {
      "text/html": [
       "<div>\n",
       "<style scoped>\n",
       "    .dataframe tbody tr th:only-of-type {\n",
       "        vertical-align: middle;\n",
       "    }\n",
       "\n",
       "    .dataframe tbody tr th {\n",
       "        vertical-align: top;\n",
       "    }\n",
       "\n",
       "    .dataframe thead th {\n",
       "        text-align: right;\n",
       "    }\n",
       "</style>\n",
       "<table border=\"1\" class=\"dataframe\">\n",
       "  <thead>\n",
       "    <tr style=\"text-align: right;\">\n",
       "      <th></th>\n",
       "      <th>python</th>\n",
       "      <th>c++</th>\n",
       "      <th>java</th>\n",
       "    </tr>\n",
       "  </thead>\n",
       "  <tbody>\n",
       "    <tr>\n",
       "      <th>0</th>\n",
       "      <td>1</td>\n",
       "      <td>1</td>\n",
       "      <td>1</td>\n",
       "    </tr>\n",
       "    <tr>\n",
       "      <th>1</th>\n",
       "      <td>2</td>\n",
       "      <td>2</td>\n",
       "      <td>2</td>\n",
       "    </tr>\n",
       "    <tr>\n",
       "      <th>2</th>\n",
       "      <td>3</td>\n",
       "      <td>3</td>\n",
       "      <td>3</td>\n",
       "    </tr>\n",
       "    <tr>\n",
       "      <th>3</th>\n",
       "      <td>4</td>\n",
       "      <td>4</td>\n",
       "      <td>4</td>\n",
       "    </tr>\n",
       "    <tr>\n",
       "      <th>4</th>\n",
       "      <td>5</td>\n",
       "      <td>5</td>\n",
       "      <td>5</td>\n",
       "    </tr>\n",
       "    <tr>\n",
       "      <th>5</th>\n",
       "      <td>6</td>\n",
       "      <td>6</td>\n",
       "      <td>6</td>\n",
       "    </tr>\n",
       "  </tbody>\n",
       "</table>\n",
       "</div>"
      ],
      "text/plain": [
       "   python  c++  java\n",
       "0       1    1     1\n",
       "1       2    2     2\n",
       "2       3    3     3\n",
       "3       4    4     4\n",
       "4       5    5     5\n",
       "5       6    6     6"
      ]
     },
     "execution_count": 5,
     "metadata": {},
     "output_type": "execute_result"
    }
   ],
   "source": [
    "v.dropna(how=\"any\") # All null value is remove"
   ]
  },
  {
   "cell_type": "code",
   "execution_count": 6,
   "metadata": {},
   "outputs": [
    {
     "data": {
      "text/html": [
       "<div>\n",
       "<style scoped>\n",
       "    .dataframe tbody tr th:only-of-type {\n",
       "        vertical-align: middle;\n",
       "    }\n",
       "\n",
       "    .dataframe tbody tr th {\n",
       "        vertical-align: top;\n",
       "    }\n",
       "\n",
       "    .dataframe thead th {\n",
       "        text-align: right;\n",
       "    }\n",
       "</style>\n",
       "<table border=\"1\" class=\"dataframe\">\n",
       "  <thead>\n",
       "    <tr style=\"text-align: right;\">\n",
       "      <th></th>\n",
       "      <th>python</th>\n",
       "      <th>c++</th>\n",
       "      <th>java</th>\n",
       "    </tr>\n",
       "  </thead>\n",
       "  <tbody>\n",
       "    <tr>\n",
       "      <th>0</th>\n",
       "      <td>1</td>\n",
       "      <td>1</td>\n",
       "      <td>1</td>\n",
       "    </tr>\n",
       "    <tr>\n",
       "      <th>1</th>\n",
       "      <td>2</td>\n",
       "      <td>2</td>\n",
       "      <td>2</td>\n",
       "    </tr>\n",
       "    <tr>\n",
       "      <th>2</th>\n",
       "      <td>3</td>\n",
       "      <td>3</td>\n",
       "      <td>3</td>\n",
       "    </tr>\n",
       "    <tr>\n",
       "      <th>3</th>\n",
       "      <td>4</td>\n",
       "      <td>4</td>\n",
       "      <td>4</td>\n",
       "    </tr>\n",
       "    <tr>\n",
       "      <th>4</th>\n",
       "      <td>5</td>\n",
       "      <td>5</td>\n",
       "      <td>5</td>\n",
       "    </tr>\n",
       "    <tr>\n",
       "      <th>5</th>\n",
       "      <td>6</td>\n",
       "      <td>6</td>\n",
       "      <td>6</td>\n",
       "    </tr>\n",
       "  </tbody>\n",
       "</table>\n",
       "</div>"
      ],
      "text/plain": [
       "   python  c++  java\n",
       "0       1    1     1\n",
       "1       2    2     2\n",
       "2       3    3     3\n",
       "3       4    4     4\n",
       "4       5    5     5\n",
       "5       6    6     6"
      ]
     },
     "execution_count": 6,
     "metadata": {},
     "output_type": "execute_result"
    }
   ],
   "source": [
    "v.dropna(how=\"all\")  # remove null value in paricular rows"
   ]
  },
  {
   "cell_type": "code",
   "execution_count": 7,
   "metadata": {},
   "outputs": [
    {
     "data": {
      "text/html": [
       "<div>\n",
       "<style scoped>\n",
       "    .dataframe tbody tr th:only-of-type {\n",
       "        vertical-align: middle;\n",
       "    }\n",
       "\n",
       "    .dataframe tbody tr th {\n",
       "        vertical-align: top;\n",
       "    }\n",
       "\n",
       "    .dataframe thead th {\n",
       "        text-align: right;\n",
       "    }\n",
       "</style>\n",
       "<table border=\"1\" class=\"dataframe\">\n",
       "  <thead>\n",
       "    <tr style=\"text-align: right;\">\n",
       "      <th></th>\n",
       "      <th>python</th>\n",
       "      <th>c++</th>\n",
       "      <th>java</th>\n",
       "    </tr>\n",
       "  </thead>\n",
       "  <tbody>\n",
       "    <tr>\n",
       "      <th>0</th>\n",
       "      <td>1</td>\n",
       "      <td>1</td>\n",
       "      <td>1</td>\n",
       "    </tr>\n",
       "    <tr>\n",
       "      <th>1</th>\n",
       "      <td>2</td>\n",
       "      <td>2</td>\n",
       "      <td>2</td>\n",
       "    </tr>\n",
       "    <tr>\n",
       "      <th>2</th>\n",
       "      <td>3</td>\n",
       "      <td>3</td>\n",
       "      <td>3</td>\n",
       "    </tr>\n",
       "    <tr>\n",
       "      <th>3</th>\n",
       "      <td>4</td>\n",
       "      <td>4</td>\n",
       "      <td>4</td>\n",
       "    </tr>\n",
       "    <tr>\n",
       "      <th>4</th>\n",
       "      <td>5</td>\n",
       "      <td>5</td>\n",
       "      <td>5</td>\n",
       "    </tr>\n",
       "    <tr>\n",
       "      <th>5</th>\n",
       "      <td>6</td>\n",
       "      <td>6</td>\n",
       "      <td>6</td>\n",
       "    </tr>\n",
       "  </tbody>\n",
       "</table>\n",
       "</div>"
      ],
      "text/plain": [
       "   python  c++  java\n",
       "0       1    1     1\n",
       "1       2    2     2\n",
       "2       3    3     3\n",
       "3       4    4     4\n",
       "4       5    5     5\n",
       "5       6    6     6"
      ]
     },
     "execution_count": 7,
     "metadata": {},
     "output_type": "execute_result"
    }
   ],
   "source": [
    "v.dropna(subset=[\"c++\"]) # columns wise    "
   ]
  },
  {
   "cell_type": "code",
   "execution_count": 9,
   "metadata": {},
   "outputs": [],
   "source": [
    "v.dropna(inplace=True) # all null value remove "
   ]
  },
  {
   "cell_type": "code",
   "execution_count": 2,
   "metadata": {},
   "outputs": [
    {
     "name": "stdout",
     "output_type": "stream",
     "text": [
      "    SR.      NAME  GENDER  AGE       DATE         COUNTRY\n",
      "0     1      Dett    Male   18  21/05/2015  Great Britain\n",
      "1     2     Nern   Female   19  15/10/2017         France\n",
      "2     3   Kallsie    Male   20  16/08/2016         France\n",
      "3     4     Siuau  Female   21  21/05/2015  Great Britain\n",
      "4     5  Shennice    Male   22  21/05/2016         France\n",
      "5     6    Chasse  Female   23  15/10/2018         France\n",
      "6     7    Tommye    Male   24  16/08/2017  United States\n",
      "7     8   Dorcast  Female   25  21/05/2016  United States\n",
      "8     9   Angelee    Male   26  21/05/2017  Great Britain\n",
      "9    10   Willoom  Female   27  15/10/2019         France\n",
      "10   11   Waeston    Male   28  16/08/2018  Great Britain\n",
      "11   12     Rosma  Female   29  21/05/2017         France\n",
      "12   13  Felisaas    Male   30  21/05/2018         France\n",
      "13   14   Demetas  Female   31  15/10/2020  Great Britain\n",
      "14   15   Jeromyw  Female   32  16/08/2019         France\n",
      "15   16    Rashid  Female   33  21/05/2018         France\n",
      "16   17      Dett  Female   34  21/05/2019  United States\n",
      "17   18     Nern   Female   35  15/10/2021  United States\n",
      "18   19   Kallsie  Female   36  16/08/2020  Great Britain\n",
      "19   20     Siuau  Female   37  21/05/2019         France\n",
      "20   21  Shennice  Female   38  21/05/2020  Great Britain\n",
      "21   22    Chasse  Female   39  15/10/2022         France\n",
      "22   23    Tommye  Female   40  16/08/2021         France\n",
      "23   24   Dorcast  Female   41  21/05/2020  Great Britain\n",
      "24   25   Angelee  Female   42  21/05/2021         France\n",
      "25   26   Willoom  Female   43  15/10/2023         France\n",
      "26   27   Waeston  Female   44  16/08/2022  United States\n",
      "27   28     Rosma  Female   45  21/05/2021  United States\n",
      "28   29  Felisaas  Female   46  21/05/2022  Great Britain\n",
      "29   30   Demetas  Female   47  15/10/2024         France\n",
      "30   31   Jeromyw  Female   48  16/08/2023  Great Britain\n",
      "31   32    Rashid  Female   49  21/05/2022         France\n",
      "32   33      Dett  Female   50  21/05/2023         France\n",
      "33   34     Nern   Female   51  15/10/2025  Great Britain\n",
      "34   35   Kallsie  Female   52  16/08/2024         France\n",
      "35   36     Siuau  Female   53  21/05/2023         France\n",
      "36   37  Shennice  Female   54  21/05/2024  United States\n",
      "37   38    Chasse  Female   55  15/10/2026  United States\n",
      "38   39    Tommye  Female   56  16/08/2025  Great Britain\n",
      "39   40   Dorcast  Female   57  21/05/2024         France\n",
      "40   41   Angelee  Female   58  21/05/2025  Great Britain\n",
      "41   42   Willoom  Female   59  15/10/2027         France\n",
      "42   43   Waeston  Female   60  16/08/2026         France\n",
      "43   44     Rosma  Female   61  21/05/2025  Great Britain\n",
      "44   45  Felisaas  Female   62  21/05/2026         France\n",
      "45   46   Demetas  Female   63  15/10/2028         France\n",
      "46   47   Jeromyw  Female   64  16/08/2027  United States\n",
      "47   48    Rashid  Female   65  21/05/2026  United States\n",
      "48   49      Dett    Male   18  21/05/2015  Great Britain\n"
     ]
    }
   ],
   "source": [
    "import pandas as pd\n",
    "\n",
    "va=pd.read_csv(\"Free_Test_Data_200KB_CSV-1 (3).csv\")\n",
    "print(va)"
   ]
  },
  {
   "cell_type": "code",
   "execution_count": 4,
   "metadata": {},
   "outputs": [
    {
     "data": {
      "text/html": [
       "<div>\n",
       "<style scoped>\n",
       "    .dataframe tbody tr th:only-of-type {\n",
       "        vertical-align: middle;\n",
       "    }\n",
       "\n",
       "    .dataframe tbody tr th {\n",
       "        vertical-align: top;\n",
       "    }\n",
       "\n",
       "    .dataframe thead th {\n",
       "        text-align: right;\n",
       "    }\n",
       "</style>\n",
       "<table border=\"1\" class=\"dataframe\">\n",
       "  <thead>\n",
       "    <tr style=\"text-align: right;\">\n",
       "      <th></th>\n",
       "      <th>SR.</th>\n",
       "      <th>NAME</th>\n",
       "      <th>GENDER</th>\n",
       "      <th>AGE</th>\n",
       "      <th>DATE</th>\n",
       "      <th>COUNTRY</th>\n",
       "    </tr>\n",
       "  </thead>\n",
       "  <tbody>\n",
       "    <tr>\n",
       "      <th>0</th>\n",
       "      <td>1</td>\n",
       "      <td>Dett</td>\n",
       "      <td>Male</td>\n",
       "      <td>18</td>\n",
       "      <td>21/05/2015</td>\n",
       "      <td>Great Britain</td>\n",
       "    </tr>\n",
       "    <tr>\n",
       "      <th>1</th>\n",
       "      <td>2</td>\n",
       "      <td>Nern</td>\n",
       "      <td>Female</td>\n",
       "      <td>19</td>\n",
       "      <td>15/10/2017</td>\n",
       "      <td>France</td>\n",
       "    </tr>\n",
       "    <tr>\n",
       "      <th>2</th>\n",
       "      <td>3</td>\n",
       "      <td>Kallsie</td>\n",
       "      <td>Male</td>\n",
       "      <td>20</td>\n",
       "      <td>16/08/2016</td>\n",
       "      <td>France</td>\n",
       "    </tr>\n",
       "    <tr>\n",
       "      <th>3</th>\n",
       "      <td>4</td>\n",
       "      <td>Siuau</td>\n",
       "      <td>Female</td>\n",
       "      <td>21</td>\n",
       "      <td>21/05/2015</td>\n",
       "      <td>Great Britain</td>\n",
       "    </tr>\n",
       "    <tr>\n",
       "      <th>4</th>\n",
       "      <td>5</td>\n",
       "      <td>Shennice</td>\n",
       "      <td>Male</td>\n",
       "      <td>22</td>\n",
       "      <td>21/05/2016</td>\n",
       "      <td>France</td>\n",
       "    </tr>\n",
       "    <tr>\n",
       "      <th>5</th>\n",
       "      <td>6</td>\n",
       "      <td>Chasse</td>\n",
       "      <td>Female</td>\n",
       "      <td>23</td>\n",
       "      <td>15/10/2018</td>\n",
       "      <td>France</td>\n",
       "    </tr>\n",
       "    <tr>\n",
       "      <th>6</th>\n",
       "      <td>7</td>\n",
       "      <td>Tommye</td>\n",
       "      <td>Male</td>\n",
       "      <td>24</td>\n",
       "      <td>16/08/2017</td>\n",
       "      <td>United States</td>\n",
       "    </tr>\n",
       "    <tr>\n",
       "      <th>7</th>\n",
       "      <td>8</td>\n",
       "      <td>Dorcast</td>\n",
       "      <td>Female</td>\n",
       "      <td>25</td>\n",
       "      <td>21/05/2016</td>\n",
       "      <td>United States</td>\n",
       "    </tr>\n",
       "    <tr>\n",
       "      <th>8</th>\n",
       "      <td>9</td>\n",
       "      <td>Angelee</td>\n",
       "      <td>Male</td>\n",
       "      <td>26</td>\n",
       "      <td>21/05/2017</td>\n",
       "      <td>Great Britain</td>\n",
       "    </tr>\n",
       "    <tr>\n",
       "      <th>9</th>\n",
       "      <td>10</td>\n",
       "      <td>Willoom</td>\n",
       "      <td>Female</td>\n",
       "      <td>27</td>\n",
       "      <td>15/10/2019</td>\n",
       "      <td>France</td>\n",
       "    </tr>\n",
       "    <tr>\n",
       "      <th>10</th>\n",
       "      <td>11</td>\n",
       "      <td>Waeston</td>\n",
       "      <td>Male</td>\n",
       "      <td>28</td>\n",
       "      <td>16/08/2018</td>\n",
       "      <td>Great Britain</td>\n",
       "    </tr>\n",
       "    <tr>\n",
       "      <th>11</th>\n",
       "      <td>12</td>\n",
       "      <td>Rosma</td>\n",
       "      <td>Female</td>\n",
       "      <td>29</td>\n",
       "      <td>21/05/2017</td>\n",
       "      <td>France</td>\n",
       "    </tr>\n",
       "    <tr>\n",
       "      <th>12</th>\n",
       "      <td>13</td>\n",
       "      <td>Felisaas</td>\n",
       "      <td>Male</td>\n",
       "      <td>30</td>\n",
       "      <td>21/05/2018</td>\n",
       "      <td>France</td>\n",
       "    </tr>\n",
       "    <tr>\n",
       "      <th>13</th>\n",
       "      <td>14</td>\n",
       "      <td>Demetas</td>\n",
       "      <td>Female</td>\n",
       "      <td>31</td>\n",
       "      <td>15/10/2020</td>\n",
       "      <td>Great Britain</td>\n",
       "    </tr>\n",
       "    <tr>\n",
       "      <th>14</th>\n",
       "      <td>15</td>\n",
       "      <td>Jeromyw</td>\n",
       "      <td>Female</td>\n",
       "      <td>32</td>\n",
       "      <td>16/08/2019</td>\n",
       "      <td>France</td>\n",
       "    </tr>\n",
       "    <tr>\n",
       "      <th>15</th>\n",
       "      <td>16</td>\n",
       "      <td>Rashid</td>\n",
       "      <td>Female</td>\n",
       "      <td>33</td>\n",
       "      <td>21/05/2018</td>\n",
       "      <td>France</td>\n",
       "    </tr>\n",
       "    <tr>\n",
       "      <th>16</th>\n",
       "      <td>17</td>\n",
       "      <td>Dett</td>\n",
       "      <td>Female</td>\n",
       "      <td>34</td>\n",
       "      <td>21/05/2019</td>\n",
       "      <td>United States</td>\n",
       "    </tr>\n",
       "    <tr>\n",
       "      <th>17</th>\n",
       "      <td>18</td>\n",
       "      <td>Nern</td>\n",
       "      <td>Female</td>\n",
       "      <td>35</td>\n",
       "      <td>15/10/2021</td>\n",
       "      <td>United States</td>\n",
       "    </tr>\n",
       "    <tr>\n",
       "      <th>18</th>\n",
       "      <td>19</td>\n",
       "      <td>Kallsie</td>\n",
       "      <td>Female</td>\n",
       "      <td>36</td>\n",
       "      <td>16/08/2020</td>\n",
       "      <td>Great Britain</td>\n",
       "    </tr>\n",
       "    <tr>\n",
       "      <th>19</th>\n",
       "      <td>20</td>\n",
       "      <td>Siuau</td>\n",
       "      <td>Female</td>\n",
       "      <td>37</td>\n",
       "      <td>21/05/2019</td>\n",
       "      <td>France</td>\n",
       "    </tr>\n",
       "    <tr>\n",
       "      <th>20</th>\n",
       "      <td>21</td>\n",
       "      <td>Shennice</td>\n",
       "      <td>Female</td>\n",
       "      <td>38</td>\n",
       "      <td>21/05/2020</td>\n",
       "      <td>Great Britain</td>\n",
       "    </tr>\n",
       "    <tr>\n",
       "      <th>21</th>\n",
       "      <td>22</td>\n",
       "      <td>Chasse</td>\n",
       "      <td>Female</td>\n",
       "      <td>39</td>\n",
       "      <td>15/10/2022</td>\n",
       "      <td>France</td>\n",
       "    </tr>\n",
       "    <tr>\n",
       "      <th>22</th>\n",
       "      <td>23</td>\n",
       "      <td>Tommye</td>\n",
       "      <td>Female</td>\n",
       "      <td>40</td>\n",
       "      <td>16/08/2021</td>\n",
       "      <td>France</td>\n",
       "    </tr>\n",
       "    <tr>\n",
       "      <th>23</th>\n",
       "      <td>24</td>\n",
       "      <td>Dorcast</td>\n",
       "      <td>Female</td>\n",
       "      <td>41</td>\n",
       "      <td>21/05/2020</td>\n",
       "      <td>Great Britain</td>\n",
       "    </tr>\n",
       "    <tr>\n",
       "      <th>24</th>\n",
       "      <td>25</td>\n",
       "      <td>Angelee</td>\n",
       "      <td>Female</td>\n",
       "      <td>42</td>\n",
       "      <td>21/05/2021</td>\n",
       "      <td>France</td>\n",
       "    </tr>\n",
       "    <tr>\n",
       "      <th>25</th>\n",
       "      <td>26</td>\n",
       "      <td>Willoom</td>\n",
       "      <td>Female</td>\n",
       "      <td>43</td>\n",
       "      <td>15/10/2023</td>\n",
       "      <td>France</td>\n",
       "    </tr>\n",
       "    <tr>\n",
       "      <th>26</th>\n",
       "      <td>27</td>\n",
       "      <td>Waeston</td>\n",
       "      <td>Female</td>\n",
       "      <td>44</td>\n",
       "      <td>16/08/2022</td>\n",
       "      <td>United States</td>\n",
       "    </tr>\n",
       "    <tr>\n",
       "      <th>27</th>\n",
       "      <td>28</td>\n",
       "      <td>Rosma</td>\n",
       "      <td>Female</td>\n",
       "      <td>45</td>\n",
       "      <td>21/05/2021</td>\n",
       "      <td>United States</td>\n",
       "    </tr>\n",
       "    <tr>\n",
       "      <th>28</th>\n",
       "      <td>29</td>\n",
       "      <td>Felisaas</td>\n",
       "      <td>Female</td>\n",
       "      <td>46</td>\n",
       "      <td>21/05/2022</td>\n",
       "      <td>Great Britain</td>\n",
       "    </tr>\n",
       "    <tr>\n",
       "      <th>29</th>\n",
       "      <td>30</td>\n",
       "      <td>Demetas</td>\n",
       "      <td>Female</td>\n",
       "      <td>47</td>\n",
       "      <td>15/10/2024</td>\n",
       "      <td>France</td>\n",
       "    </tr>\n",
       "    <tr>\n",
       "      <th>30</th>\n",
       "      <td>31</td>\n",
       "      <td>Jeromyw</td>\n",
       "      <td>Female</td>\n",
       "      <td>48</td>\n",
       "      <td>16/08/2023</td>\n",
       "      <td>Great Britain</td>\n",
       "    </tr>\n",
       "    <tr>\n",
       "      <th>31</th>\n",
       "      <td>32</td>\n",
       "      <td>Rashid</td>\n",
       "      <td>Female</td>\n",
       "      <td>49</td>\n",
       "      <td>21/05/2022</td>\n",
       "      <td>France</td>\n",
       "    </tr>\n",
       "    <tr>\n",
       "      <th>32</th>\n",
       "      <td>33</td>\n",
       "      <td>Dett</td>\n",
       "      <td>Female</td>\n",
       "      <td>50</td>\n",
       "      <td>21/05/2023</td>\n",
       "      <td>France</td>\n",
       "    </tr>\n",
       "    <tr>\n",
       "      <th>33</th>\n",
       "      <td>34</td>\n",
       "      <td>Nern</td>\n",
       "      <td>Female</td>\n",
       "      <td>51</td>\n",
       "      <td>15/10/2025</td>\n",
       "      <td>Great Britain</td>\n",
       "    </tr>\n",
       "    <tr>\n",
       "      <th>34</th>\n",
       "      <td>35</td>\n",
       "      <td>Kallsie</td>\n",
       "      <td>Female</td>\n",
       "      <td>52</td>\n",
       "      <td>16/08/2024</td>\n",
       "      <td>France</td>\n",
       "    </tr>\n",
       "    <tr>\n",
       "      <th>35</th>\n",
       "      <td>36</td>\n",
       "      <td>Siuau</td>\n",
       "      <td>Female</td>\n",
       "      <td>53</td>\n",
       "      <td>21/05/2023</td>\n",
       "      <td>France</td>\n",
       "    </tr>\n",
       "    <tr>\n",
       "      <th>36</th>\n",
       "      <td>37</td>\n",
       "      <td>Shennice</td>\n",
       "      <td>Female</td>\n",
       "      <td>54</td>\n",
       "      <td>21/05/2024</td>\n",
       "      <td>United States</td>\n",
       "    </tr>\n",
       "    <tr>\n",
       "      <th>37</th>\n",
       "      <td>38</td>\n",
       "      <td>Chasse</td>\n",
       "      <td>Female</td>\n",
       "      <td>55</td>\n",
       "      <td>15/10/2026</td>\n",
       "      <td>United States</td>\n",
       "    </tr>\n",
       "    <tr>\n",
       "      <th>38</th>\n",
       "      <td>39</td>\n",
       "      <td>Tommye</td>\n",
       "      <td>Female</td>\n",
       "      <td>56</td>\n",
       "      <td>16/08/2025</td>\n",
       "      <td>Great Britain</td>\n",
       "    </tr>\n",
       "    <tr>\n",
       "      <th>39</th>\n",
       "      <td>40</td>\n",
       "      <td>Dorcast</td>\n",
       "      <td>Female</td>\n",
       "      <td>57</td>\n",
       "      <td>21/05/2024</td>\n",
       "      <td>France</td>\n",
       "    </tr>\n",
       "    <tr>\n",
       "      <th>40</th>\n",
       "      <td>41</td>\n",
       "      <td>Angelee</td>\n",
       "      <td>Female</td>\n",
       "      <td>58</td>\n",
       "      <td>21/05/2025</td>\n",
       "      <td>Great Britain</td>\n",
       "    </tr>\n",
       "    <tr>\n",
       "      <th>41</th>\n",
       "      <td>42</td>\n",
       "      <td>Willoom</td>\n",
       "      <td>Female</td>\n",
       "      <td>59</td>\n",
       "      <td>15/10/2027</td>\n",
       "      <td>France</td>\n",
       "    </tr>\n",
       "    <tr>\n",
       "      <th>42</th>\n",
       "      <td>43</td>\n",
       "      <td>Waeston</td>\n",
       "      <td>Female</td>\n",
       "      <td>60</td>\n",
       "      <td>16/08/2026</td>\n",
       "      <td>France</td>\n",
       "    </tr>\n",
       "    <tr>\n",
       "      <th>43</th>\n",
       "      <td>44</td>\n",
       "      <td>Rosma</td>\n",
       "      <td>Female</td>\n",
       "      <td>61</td>\n",
       "      <td>21/05/2025</td>\n",
       "      <td>Great Britain</td>\n",
       "    </tr>\n",
       "    <tr>\n",
       "      <th>44</th>\n",
       "      <td>45</td>\n",
       "      <td>Felisaas</td>\n",
       "      <td>Female</td>\n",
       "      <td>62</td>\n",
       "      <td>21/05/2026</td>\n",
       "      <td>France</td>\n",
       "    </tr>\n",
       "    <tr>\n",
       "      <th>45</th>\n",
       "      <td>46</td>\n",
       "      <td>Demetas</td>\n",
       "      <td>Female</td>\n",
       "      <td>63</td>\n",
       "      <td>15/10/2028</td>\n",
       "      <td>France</td>\n",
       "    </tr>\n",
       "    <tr>\n",
       "      <th>46</th>\n",
       "      <td>47</td>\n",
       "      <td>Jeromyw</td>\n",
       "      <td>Female</td>\n",
       "      <td>64</td>\n",
       "      <td>16/08/2027</td>\n",
       "      <td>United States</td>\n",
       "    </tr>\n",
       "    <tr>\n",
       "      <th>47</th>\n",
       "      <td>48</td>\n",
       "      <td>Rashid</td>\n",
       "      <td>Female</td>\n",
       "      <td>65</td>\n",
       "      <td>21/05/2026</td>\n",
       "      <td>United States</td>\n",
       "    </tr>\n",
       "    <tr>\n",
       "      <th>48</th>\n",
       "      <td>49</td>\n",
       "      <td>Dett</td>\n",
       "      <td>Male</td>\n",
       "      <td>18</td>\n",
       "      <td>21/05/2015</td>\n",
       "      <td>Great Britain</td>\n",
       "    </tr>\n",
       "  </tbody>\n",
       "</table>\n",
       "</div>"
      ],
      "text/plain": [
       "    SR.      NAME  GENDER  AGE       DATE         COUNTRY\n",
       "0     1      Dett    Male   18  21/05/2015  Great Britain\n",
       "1     2     Nern   Female   19  15/10/2017         France\n",
       "2     3   Kallsie    Male   20  16/08/2016         France\n",
       "3     4     Siuau  Female   21  21/05/2015  Great Britain\n",
       "4     5  Shennice    Male   22  21/05/2016         France\n",
       "5     6    Chasse  Female   23  15/10/2018         France\n",
       "6     7    Tommye    Male   24  16/08/2017  United States\n",
       "7     8   Dorcast  Female   25  21/05/2016  United States\n",
       "8     9   Angelee    Male   26  21/05/2017  Great Britain\n",
       "9    10   Willoom  Female   27  15/10/2019         France\n",
       "10   11   Waeston    Male   28  16/08/2018  Great Britain\n",
       "11   12     Rosma  Female   29  21/05/2017         France\n",
       "12   13  Felisaas    Male   30  21/05/2018         France\n",
       "13   14   Demetas  Female   31  15/10/2020  Great Britain\n",
       "14   15   Jeromyw  Female   32  16/08/2019         France\n",
       "15   16    Rashid  Female   33  21/05/2018         France\n",
       "16   17      Dett  Female   34  21/05/2019  United States\n",
       "17   18     Nern   Female   35  15/10/2021  United States\n",
       "18   19   Kallsie  Female   36  16/08/2020  Great Britain\n",
       "19   20     Siuau  Female   37  21/05/2019         France\n",
       "20   21  Shennice  Female   38  21/05/2020  Great Britain\n",
       "21   22    Chasse  Female   39  15/10/2022         France\n",
       "22   23    Tommye  Female   40  16/08/2021         France\n",
       "23   24   Dorcast  Female   41  21/05/2020  Great Britain\n",
       "24   25   Angelee  Female   42  21/05/2021         France\n",
       "25   26   Willoom  Female   43  15/10/2023         France\n",
       "26   27   Waeston  Female   44  16/08/2022  United States\n",
       "27   28     Rosma  Female   45  21/05/2021  United States\n",
       "28   29  Felisaas  Female   46  21/05/2022  Great Britain\n",
       "29   30   Demetas  Female   47  15/10/2024         France\n",
       "30   31   Jeromyw  Female   48  16/08/2023  Great Britain\n",
       "31   32    Rashid  Female   49  21/05/2022         France\n",
       "32   33      Dett  Female   50  21/05/2023         France\n",
       "33   34     Nern   Female   51  15/10/2025  Great Britain\n",
       "34   35   Kallsie  Female   52  16/08/2024         France\n",
       "35   36     Siuau  Female   53  21/05/2023         France\n",
       "36   37  Shennice  Female   54  21/05/2024  United States\n",
       "37   38    Chasse  Female   55  15/10/2026  United States\n",
       "38   39    Tommye  Female   56  16/08/2025  Great Britain\n",
       "39   40   Dorcast  Female   57  21/05/2024         France\n",
       "40   41   Angelee  Female   58  21/05/2025  Great Britain\n",
       "41   42   Willoom  Female   59  15/10/2027         France\n",
       "42   43   Waeston  Female   60  16/08/2026         France\n",
       "43   44     Rosma  Female   61  21/05/2025  Great Britain\n",
       "44   45  Felisaas  Female   62  21/05/2026         France\n",
       "45   46   Demetas  Female   63  15/10/2028         France\n",
       "46   47   Jeromyw  Female   64  16/08/2027  United States\n",
       "47   48    Rashid  Female   65  21/05/2026  United States\n",
       "48   49      Dett    Male   18  21/05/2015  Great Britain"
      ]
     },
     "execution_count": 4,
     "metadata": {},
     "output_type": "execute_result"
    }
   ],
   "source": [
    "va.dropna(axis=1) "
   ]
  },
  {
   "cell_type": "code",
   "execution_count": 8,
   "metadata": {},
   "outputs": [
    {
     "name": "stdout",
     "output_type": "stream",
     "text": [
      "    SR.      NAME  GENDER  AGE       DATE         COUNTRY\n",
      "0     1      Dett    Male   18  21/05/2015  Great Britain\n",
      "1     2     Nern   Female   19  15/10/2017         France\n",
      "2     3   Kallsie    Male   20  16/08/2016         France\n",
      "3     4     Siuau  Female   21  21/05/2015  Great Britain\n",
      "4     5  Shennice    Male   22  21/05/2016         France\n",
      "5     6    Chasse  Female   23  15/10/2018         France\n",
      "6     7    Tommye    Male   24  16/08/2017  United States\n",
      "7     8   Dorcast  Female   25  21/05/2016  United States\n",
      "8     9   Angelee    Male   26  21/05/2017  Great Britain\n",
      "9    10   Willoom  Female   27  15/10/2019         France\n",
      "10   11   Waeston    Male   28  16/08/2018            NaN\n",
      "11   12     Rosma  Female   29  21/05/2017            NaN\n",
      "12   13  Felisaas    Male   30  21/05/2018            NaN\n",
      "13   14   Demetas  Female   31  15/10/2020  Great Britain\n",
      "14   15   Jeromyw  Female   32  16/08/2019         France\n",
      "15   16    Rashid  Female   33  21/05/2018         France\n",
      "16   17      Dett  Female   34  21/05/2019  United States\n",
      "17   18     Nern   Female   35  15/10/2021  United States\n",
      "18   19   Kallsie  Female   36  16/08/2020            NaN\n",
      "19   20     Siuau  Female   37  21/05/2019         France\n",
      "20   21  Shennice  Female   38  21/05/2020  Great Britain\n",
      "21   22    Chasse  Female   39  15/10/2022         France\n",
      "22   23    Tommye  Female   40  16/08/2021         France\n",
      "23   24   Dorcast  Female   41  21/05/2020  Great Britain\n",
      "24   25   Angelee  Female   42  21/05/2021         France\n",
      "25   26   Willoom  Female   43  15/10/2023         France\n",
      "26   27   Waeston  Female   44  16/08/2022  United States\n",
      "27   28     Rosma  Female   45  21/05/2021  United States\n",
      "28   29  Felisaas  Female   46  21/05/2022  Great Britain\n",
      "29   30   Demetas  Female   47  15/10/2024         France\n",
      "30   31   Jeromyw  Female   48  16/08/2023  Great Britain\n",
      "31   32    Rashid  Female   49  21/05/2022         France\n",
      "32   33      Dett  Female   50  21/05/2023         France\n",
      "33   34     Nern   Female   51  15/10/2025  Great Britain\n",
      "34   35   Kallsie  Female   52  16/08/2024         France\n",
      "35   36     Siuau  Female   53  21/05/2023         France\n",
      "36   37  Shennice  Female   54  21/05/2024  United States\n",
      "37   38    Chasse  Female   55  15/10/2026  United States\n",
      "38   39    Tommye  Female   56  16/08/2025  Great Britain\n",
      "39   40   Dorcast  Female   57  21/05/2024         France\n",
      "40   41   Angelee  Female   58  21/05/2025  Great Britain\n",
      "41   42   Willoom  Female   59  15/10/2027         France\n",
      "42   43   Waeston  Female   60  16/08/2026         France\n",
      "43   44     Rosma  Female   61  21/05/2025  Great Britain\n",
      "44   45  Felisaas  Female   62  21/05/2026         France\n",
      "45   46   Demetas  Female   63  15/10/2028         France\n",
      "46   47   Jeromyw  Female   64  16/08/2027  United States\n",
      "47   48    Rashid  Female   65  21/05/2026  United States\n",
      "48   49      Dett    Male   18  21/05/2015  Great Britain\n"
     ]
    }
   ],
   "source": [
    "va1=pd.read_csv(\"C:\\\\Users\\\\ankit\\\\OneDrive\\\\Desktop\\\\dataset.csv\")\n",
    "print(va1)"
   ]
  },
  {
   "cell_type": "code",
   "execution_count": 9,
   "metadata": {},
   "outputs": [
    {
     "name": "stdout",
     "output_type": "stream",
     "text": [
      "    SR.      NAME  GENDER  AGE       DATE         COUNTRY\n",
      "0     1      Dett    Male   18  21/05/2015  Great Britain\n",
      "1     2     Nern   Female   19  15/10/2017         France\n",
      "2     3   Kallsie    Male   20  16/08/2016         France\n",
      "3     4     Siuau  Female   21  21/05/2015  Great Britain\n",
      "4     5  Shennice    Male   22  21/05/2016         France\n",
      "5     6    Chasse  Female   23  15/10/2018         France\n",
      "6     7    Tommye    Male   24  16/08/2017  United States\n",
      "7     8   Dorcast  Female   25  21/05/2016  United States\n",
      "8     9   Angelee    Male   26  21/05/2017  Great Britain\n",
      "9    10   Willoom  Female   27  15/10/2019         France\n",
      "10   11   Waeston    Male   28  16/08/2018            NaN\n",
      "11   12     Rosma  Female   29  21/05/2017            NaN\n",
      "12   13  Felisaas    Male   30  21/05/2018            NaN\n",
      "13   14   Demetas  Female   31  15/10/2020  Great Britain\n",
      "14   15   Jeromyw  Female   32  16/08/2019         France\n",
      "15   16    Rashid  Female   33  21/05/2018         France\n",
      "16   17      Dett  Female   34  21/05/2019  United States\n",
      "17   18     Nern   Female   35  15/10/2021  United States\n",
      "18   19   Kallsie  Female   36  16/08/2020            NaN\n",
      "19   20     Siuau  Female   37  21/05/2019         France\n",
      "20   21  Shennice  Female   38  21/05/2020  Great Britain\n",
      "21   22    Chasse  Female   39  15/10/2022         France\n",
      "22   23    Tommye  Female   40  16/08/2021         France\n",
      "23   24   Dorcast  Female   41  21/05/2020  Great Britain\n",
      "24   25   Angelee  Female   42  21/05/2021         France\n",
      "25   26   Willoom  Female   43  15/10/2023         France\n",
      "26   27   Waeston  Female   44  16/08/2022  United States\n",
      "27   28     Rosma  Female   45  21/05/2021  United States\n",
      "28   29  Felisaas  Female   46  21/05/2022  Great Britain\n",
      "29   30   Demetas  Female   47  15/10/2024         France\n",
      "30   31   Jeromyw  Female   48  16/08/2023  Great Britain\n",
      "31   32    Rashid  Female   49  21/05/2022         France\n",
      "32   33      Dett  Female   50  21/05/2023         France\n",
      "33   34     Nern   Female   51  15/10/2025  Great Britain\n",
      "34   35   Kallsie  Female   52  16/08/2024         France\n",
      "35   36     Siuau  Female   53  21/05/2023         France\n",
      "36   37  Shennice  Female   54  21/05/2024  United States\n",
      "37   38    Chasse  Female   55  15/10/2026  United States\n",
      "38   39    Tommye  Female   56  16/08/2025  Great Britain\n",
      "39   40   Dorcast  Female   57  21/05/2024         France\n",
      "40   41   Angelee  Female   58  21/05/2025  Great Britain\n",
      "41   42   Willoom  Female   59  15/10/2027         France\n",
      "42   43   Waeston  Female   60  16/08/2026         France\n",
      "43   44     Rosma  Female   61  21/05/2025  Great Britain\n",
      "44   45  Felisaas  Female   62  21/05/2026         France\n",
      "45   46   Demetas  Female   63  15/10/2028         France\n",
      "46   47   Jeromyw  Female   64  16/08/2027  United States\n",
      "47   48    Rashid  Female   65  21/05/2026  United States\n",
      "48   49      Dett    Male   18  21/05/2015  Great Britain\n"
     ]
    }
   ],
   "source": [
    "print(va1)"
   ]
  },
  {
   "cell_type": "code",
   "execution_count": null,
   "metadata": {},
   "outputs": [],
   "source": []
  }
 ],
 "metadata": {
  "kernelspec": {
   "display_name": "Python 3 (ipykernel)",
   "language": "python",
   "name": "python3"
  },
  "language_info": {
   "codemirror_mode": {
    "name": "ipython",
    "version": 3
   },
   "file_extension": ".py",
   "mimetype": "text/x-python",
   "name": "python",
   "nbconvert_exporter": "python",
   "pygments_lexer": "ipython3",
   "version": "3.11.5"
  }
 },
 "nbformat": 4,
 "nbformat_minor": 2
}
